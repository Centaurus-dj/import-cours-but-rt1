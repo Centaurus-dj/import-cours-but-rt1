{
 "cells": [
  {
   "cell_type": "markdown",
   "metadata": {},
   "source": [
    "# Compte rendu de R107-TP7\n",
    "\n",
    "## 1. Introduction sur les images:\n",
    "\n",
    "### 1. Pour créer une image grise de `10x8` pixels dans le fichier `img.png`, on peut écrire :"
   ]
  },
  {
   "cell_type": "code",
   "execution_count": 25,
   "metadata": {},
   "outputs": [],
   "source": [
    "from PIL import Image\n",
    "\n",
    "img = Image.new('RGB', [10,8], color='silver')\n",
    "img.save('img-r107-tp7-1.png')"
   ]
  },
  {
   "cell_type": "markdown",
   "metadata": {},
   "source": [
    "### 2. On peut ensuite dessiner un rectangle noir dont le point en haut à gauche est en position 3,2 et le point en bas à droite en 8,6 avec la méthode\n",
    "\n",
    "```py\n",
    "ImageDraw.rectangle(xy,fill=None,outline=None,width=1)\n",
    "```\n"
   ]
  },
  {
   "cell_type": "code",
   "execution_count": 26,
   "metadata": {},
   "outputs": [],
   "source": [
    "from PIL import Image,ImageDraw\n",
    "\n",
    "img = Image.new('RGB', [10,8], color='silver')\n",
    "imgDraw = ImageDraw.Draw(img) # Objet permettant de dessiner dans l'image\n",
    "imgDraw.rectangle([3,2,8,6], fill='black', outline='white')\n",
    "img.save('img-r107-tp7-2.png')\n"
   ]
  },
  {
   "cell_type": "markdown",
   "metadata": {},
   "source": [
    "On doit obtenir l'image suivante:\n",
    "\n",
    "<img src=\"./img-r107-tp7-2.png\" style=\"width: 100%; height: 100%\"></img>"
   ]
  },
  {
   "cell_type": "markdown",
   "metadata": {},
   "source": [
    "### 3. On peut récupérer la taille de l’image et la liste des pixels de la façon suivante :\n",
    "\n",
    "```py\n",
    "w,h=img.size\n",
    "print(f'Taille: {w}x{h} pixels')\n",
    "pixels=img.load()\n",
    "for y in range(h):\n",
    "  print('*** Ligne',y,'***')\n",
    "  for x in range(w):\n",
    "    print(pixels[x,y])\n",
    "```"
   ]
  },
  {
   "cell_type": "code",
   "execution_count": 27,
   "metadata": {},
   "outputs": [
    {
     "name": "stdout",
     "output_type": "stream",
     "text": [
      "Taille: 10x8 pixels\n",
      "*** Ligne 0 ***\n",
      "(192, 192, 192)\n",
      "(192, 192, 192)\n",
      "(192, 192, 192)\n",
      "(192, 192, 192)\n",
      "(192, 192, 192)\n",
      "(192, 192, 192)\n",
      "(192, 192, 192)\n",
      "(192, 192, 192)\n",
      "(192, 192, 192)\n",
      "(192, 192, 192)\n",
      "*** Ligne 1 ***\n",
      "(192, 192, 192)\n",
      "(192, 192, 192)\n",
      "(192, 192, 192)\n",
      "(192, 192, 192)\n",
      "(192, 192, 192)\n",
      "(192, 192, 192)\n",
      "(192, 192, 192)\n",
      "(192, 192, 192)\n",
      "(192, 192, 192)\n",
      "(192, 192, 192)\n",
      "*** Ligne 2 ***\n",
      "(192, 192, 192)\n",
      "(192, 192, 192)\n",
      "(192, 192, 192)\n",
      "(255, 255, 255)\n",
      "(255, 255, 255)\n",
      "(255, 255, 255)\n",
      "(255, 255, 255)\n",
      "(255, 255, 255)\n",
      "(255, 255, 255)\n",
      "(192, 192, 192)\n",
      "*** Ligne 3 ***\n",
      "(192, 192, 192)\n",
      "(192, 192, 192)\n",
      "(192, 192, 192)\n",
      "(255, 255, 255)\n",
      "(0, 0, 0)\n",
      "(0, 0, 0)\n",
      "(0, 0, 0)\n",
      "(0, 0, 0)\n",
      "(255, 255, 255)\n",
      "(192, 192, 192)\n",
      "*** Ligne 4 ***\n",
      "(192, 192, 192)\n",
      "(192, 192, 192)\n",
      "(192, 192, 192)\n",
      "(255, 255, 255)\n",
      "(0, 0, 0)\n",
      "(0, 0, 0)\n",
      "(0, 0, 0)\n",
      "(0, 0, 0)\n",
      "(255, 255, 255)\n",
      "(192, 192, 192)\n",
      "*** Ligne 5 ***\n",
      "(192, 192, 192)\n",
      "(192, 192, 192)\n",
      "(192, 192, 192)\n",
      "(255, 255, 255)\n",
      "(0, 0, 0)\n",
      "(0, 0, 0)\n",
      "(0, 0, 0)\n",
      "(0, 0, 0)\n",
      "(255, 255, 255)\n",
      "(192, 192, 192)\n",
      "*** Ligne 6 ***\n",
      "(192, 192, 192)\n",
      "(192, 192, 192)\n",
      "(192, 192, 192)\n",
      "(255, 255, 255)\n",
      "(255, 255, 255)\n",
      "(255, 255, 255)\n",
      "(255, 255, 255)\n",
      "(255, 255, 255)\n",
      "(255, 255, 255)\n",
      "(192, 192, 192)\n",
      "*** Ligne 7 ***\n",
      "(192, 192, 192)\n",
      "(192, 192, 192)\n",
      "(192, 192, 192)\n",
      "(192, 192, 192)\n",
      "(192, 192, 192)\n",
      "(192, 192, 192)\n",
      "(192, 192, 192)\n",
      "(192, 192, 192)\n",
      "(192, 192, 192)\n",
      "(192, 192, 192)\n"
     ]
    }
   ],
   "source": [
    "img = Image.open(\"img-r107-tp7-2.png\")\n",
    "\n",
    "w, h = img.size\n",
    "print(f'Taille: {w}x{h} pixels')\n",
    "\n",
    "pixels = img.load()\n",
    "\n",
    "for y in range(h):\n",
    "  print('*** Ligne',y,'***')\n",
    "  for x in range(w):\n",
    "    print(pixels[x,y])"
   ]
  },
  {
   "cell_type": "markdown",
   "metadata": {},
   "source": [
    "### 4. Vérifier qu’un pixel est bien composé de 3 valeurs (de 0 à 255) représentant respectivement les couleurs Rouge, Vert et Bleu. Comment sont codés le gris, le noir et le blanc ? Vérifier le schéma du §1.2.\n"
   ]
  },
  {
   "cell_type": "code",
   "execution_count": 28,
   "metadata": {},
   "outputs": [
    {
     "name": "stdout",
     "output_type": "stream",
     "text": [
      "True\n"
     ]
    }
   ],
   "source": [
    "def getImagePixels(img_path: str) -> list:\n",
    "  img = Image.open(img_path)\n",
    "  w, h = img.size\n",
    "  pixels = img.load()\n",
    "  return_list = []\n",
    "  temp_list = []\n",
    "\n",
    "  for y in range(0, h):\n",
    "    for x in range(0, w):\n",
    "      temp_list.append(pixels[x,y])\n",
    "    return_list.append(temp_list)\n",
    "    temp_list = []\n",
    "\n",
    "  return return_list\n",
    "\n",
    "def checkPixels(image: str) -> bool:\n",
    "  ### Black in RGB: rgb(0,0,0)\n",
    "  ### White in RGB: rgb(255, 255, 255)\n",
    "  ### Silver/Grey: rgb(192,192,192)\n",
    "\n",
    "  pixels = getImagePixels(image)\n",
    "\n",
    "  ### Go through each line\n",
    "  for i in range(0, len(pixels)):\n",
    "    ### Go through each pixel in the current line\n",
    "    for p in range(0, len(pixels[i])):\n",
    "      ### If the pixel hasn't three indexes (may not be RGB)\n",
    "      ### TODO: include the RGBA variant, not necessary currently\n",
    "      if len(pixels[i][p]) != 3:\n",
    "        return False\n",
    "\n",
    "      ### Go through each index of RGB of the current pixel\n",
    "      for m in range(0, len(pixels[i][p])):\n",
    "        if pixels[i][p][m] >= 0 and pixels[i][p][m] <= 255:\n",
    "          continue\n",
    "        else:\n",
    "          return False\n",
    "\n",
    "  return True\n",
    "\n",
    "\n",
    "print(checkPixels(\"img-r107-tp7-2.png\"))\n",
    "\n",
    "\n"
   ]
  },
  {
   "cell_type": "markdown",
   "metadata": {},
   "source": [
    "### 5. Quelles sont, en pixels, la largeur et la hauteur du rectangle (blanc) ? Faire le lien avec les valeurs données pour la création du rectangle."
   ]
  },
  {
   "cell_type": "code",
   "execution_count": 37,
   "metadata": {},
   "outputs": [
    {
     "name": "stdout",
     "output_type": "stream",
     "text": [
      "(5, 6)\n"
     ]
    }
   ],
   "source": [
    "def getSize(color_in_question: str, image: str, debug=False) -> tuple:\n",
    "  pixels = getImagePixels(image)\n",
    "  supported_colors = {\n",
    "    \"white\": (255,255,255),\n",
    "    \"black\": (0,0,0),\n",
    "    \"silver\": (192,192,192),\n",
    "    \"red\": (255,0,0),\n",
    "  }\n",
    "  curr_yes = False\n",
    "  count = 0\n",
    "  start_y, start_x = 0, 0\n",
    "  end_y, end_x = 0, 0\n",
    "  size = (0, 0) ### (height, width)\n",
    "\n",
    "\n",
    "  ### i == y in our image\n",
    "  for i in range(0, len(pixels)):\n",
    "    ### p == x in our image\n",
    "    for p in range(0, len(pixels[i])):\n",
    "      curr_yes = False\n",
    "      if pixels[i][p] == supported_colors[color_in_question]:\n",
    "        if count == 0:\n",
    "          start_y, start_x = i, p\n",
    "        count += 1\n",
    "        end_y, end_x = i, p\n",
    "\n",
    "  ### We add one because our indexes start at 0\n",
    "  size = ((end_y-start_y)+1, (end_x-start_x)+1)\n",
    "\n",
    "  return size\n",
    "\n",
    "print(getSize(\"white\", \"img-r107-tp7-2.png\"))"
   ]
  },
  {
   "cell_type": "markdown",
   "metadata": {},
   "source": [
    "### 6. Créer alors la fonction drawRectangle(imgDraw,x0,y0,w,h,fill=None,outline=None) qui permette de faciliter le dessin d’un rectangle dans une image à partir des coordonnées du point en haut à gauche, de la largeur et de la hauteur.\n",
    "\n",
    "NB : La fonction ne fait que dessiner un rectangle dans l’image fournie et ne comporte qu’une seule ligne !"
   ]
  },
  {
   "cell_type": "code",
   "execution_count": 47,
   "metadata": {},
   "outputs": [],
   "source": [
    "def drawRectangle(imgDraw: ImageDraw, x0: int, y0: int, w: int, h:int, fill: str = None, outline: str = None) -> None:\n",
    "  imgDraw.rectangle([x0, y0, x0+w-1, y0+h-1], fill=fill, outline=outline)"
   ]
  },
  {
   "cell_type": "markdown",
   "metadata": {},
   "source": [
    "### 7. Ajouter un second rectangle rouge sans contours (couleur 'red') de largeur 3 et de hauteur 2 pixels en position 4,3."
   ]
  },
  {
   "cell_type": "code",
   "execution_count": 52,
   "metadata": {},
   "outputs": [
    {
     "data": {
      "text/plain": [
       "(2, 3)"
      ]
     },
     "execution_count": 52,
     "metadata": {},
     "output_type": "execute_result"
    }
   ],
   "source": [
    "img = Image.new('RGB', [10, 8], color='silver')\n",
    "imgDraw = ImageDraw.Draw(img)  # Objet permettant de dessiner dans l'image\n",
    "drawRectangle(imgDraw, 3, 2, 6, 5, fill=\"black\", outline=\"white\")\n",
    "drawRectangle(imgDraw, 4, 3, 3, 2, \"red\")\n",
    "\n",
    "img.save(\"img-r107-tp7-3.png\")\n",
    "\n",
    "getSize(\"red\", \"img-r107-tp7-3.png\")\n"
   ]
  },
  {
   "cell_type": "markdown",
   "metadata": {},
   "source": [
    "### 8. On veut maintenant détecter uniquement les « niveaux de gris » de l’image en réalisant le calcul de luminance de la norme IUT-R-601 : Y=0.299*R+0.587*G+0.114*B. Créer une fonction qui réalise ce calcul et qui affiche la valeur de Y pour chaque pixel."
   ]
  },
  {
   "cell_type": "code",
   "execution_count": 56,
   "metadata": {},
   "outputs": [
    {
     "name": "stdout",
     "output_type": "stream",
     "text": [
      "[[192, 192, 192, 192, 192, 192, 192, 192, 192, 192], [192, 192, 192, 192, 192, 192, 192, 192, 192, 192], [192, 192, 192, 255, 255, 255, 255, 255, 255, 192], [192, 192, 192, 255, 76, 76, 76, 0, 255, 192], [192, 192, 192, 255, 76, 76, 76, 0, 255, 192], [192, 192, 192, 255, 0, 0, 0, 0, 255, 192], [192, 192, 192, 255, 255, 255, 255, 255, 255, 192], [192, 192, 192, 192, 192, 192, 192, 192, 192, 192]]\n"
     ]
    }
   ],
   "source": [
    "def getYValueofPixel(img:str, return_pixels=False)-> list | tuple:\n",
    "  pixels = getImagePixels(img)\n",
    "  return_list= []\n",
    "  temp_list = []\n",
    "\n",
    "  for line in pixels:\n",
    "    for pixel in line:\n",
    "      ### Luminance calculus of IUT-R-601 norm\n",
    "      ### y = 0.299 * R + 0.587 * G + 0.114 * B\n",
    "      try:\n",
    "        y = int(0.299 * pixel[0] + 0.587 * pixel[1] + 0.114 * pixel[2])\n",
    "      except Exception as err:\n",
    "        y = 0.299 * pixel[0] + 0.587 * pixel[1] + 0.114 * pixel[2]\n",
    "        print(err)\n",
    "      temp_list.append(y)\n",
    "    return_list.append(temp_list)\n",
    "    temp_list = []\n",
    "\n",
    "  if return_pixels:\n",
    "    return (pixels, return_list)\n",
    "  return return_list\n",
    "\n",
    "\n",
    "print(getYValueofPixel(\"img-r107-tp7-3.png\"))"
   ]
  },
  {
   "cell_type": "markdown",
   "metadata": {},
   "source": [
    "### 9. Comment trouver les pixels blancs ou noirs uniquement (et pas ceux qui sont gris ou rouge) ?"
   ]
  },
  {
   "cell_type": "code",
   "execution_count": 60,
   "metadata": {},
   "outputs": [
    {
     "name": "stdout",
     "output_type": "stream",
     "text": [
      "{'white': [(2, 3), (2, 4), (2, 5), (2, 6), (2, 7), (2, 8), (3, 3), (3, 8), (4, 3), (4, 8), (5, 3), (5, 8), (6, 3), (6, 4), (6, 5), (6, 6), (6, 7), (6, 8)], 'black': [(3, 7), (4, 7), (5, 4), (5, 5), (5, 6), (5, 7)]}\n"
     ]
    }
   ],
   "source": [
    "def getWhiteNBlackPixels(img: str)->list:\n",
    "  pixels, nuances = getYValueofPixel(img, return_pixels=True)\n",
    "\n",
    "  ### AUCUE DISCRIMINATION\n",
    "  my_pixels = {\n",
    "    \"white\": [],\n",
    "    \"black\": [],\n",
    "  }\n",
    "\n",
    "  for i in range(0, len(nuances)):\n",
    "    for p in range(0, len(nuances[i])):\n",
    "      if nuances[i][p] in (255, 0):\n",
    "        if nuances[i][p] == 255:\n",
    "          my_pixels[\"white\"].append((i,p))\n",
    "        else:\n",
    "          my_pixels[\"black\"].append((i,p))\n",
    "\n",
    "  return my_pixels\n",
    "\n",
    "print(getWhiteNBlackPixels(\"img-r107-tp7-3.png\"))"
   ]
  },
  {
   "cell_type": "markdown",
   "metadata": {},
   "source": [
    "## 2. Fabrication d'images\n",
    "\n",
    "Utiliser la fonction `drawRectangle()`, que l’on aura défini dans le module imgUtils, pour fabriquer les images\n",
    "suivantes. Voir l’outil « Sélecteur de couleurs » de Geany et\n",
    "[click here](https://pillow.readthedocs.io/en/stable/reference/ImageColor.html#color-names)."
   ]
  },
  {
   "cell_type": "markdown",
   "metadata": {},
   "source": [
    "### 1. Avec une boucle, à partir des couleurs suivantes : `'Aqua'`,`'DarkOrchid'`,`'Gold'`,`'Lime'`,`'Red'`"
   ]
  },
  {
   "cell_type": "code",
   "execution_count": 70,
   "metadata": {},
   "outputs": [],
   "source": [
    "from PIL import Image, ImageDraw, ImageColor\n",
    "\n",
    "img = Image.new('RGB', [40, 32], color='silver')\n",
    "imgDraw = ImageDraw.Draw(img)  # Objet permettant de dessiner dans l'image\n",
    "colors= [\"Aqua\", \"DarkOrchid\", \"Gold\", \"Lime\", \"Red\"]\n",
    "x = 1\n",
    "y = 1\n",
    "w,h = 4,4\n",
    "\n",
    "\n",
    "for color in colors:\n",
    "  drawRectangle(imgDraw, x, y, w, h, fill=color)\n",
    "  x,y = x+h+1,y+w+1\n",
    "img.save('img-r107-tp7-4.png')\n"
   ]
  },
  {
   "cell_type": "markdown",
   "metadata": {},
   "source": [
    "### 2. En faisant varier la partie « rouge » de 0 à 255 par pas de 20 (remplacer red par un nombre dans l’exemple ci-dessous) des couleurs avec la fonction rgb() du module ImageColor :\n",
    "```py\n",
    "color=ImageColor.getrgb('rgb(red,150,250)')\n",
    "```"
   ]
  },
  {
   "cell_type": "code",
   "execution_count": 75,
   "metadata": {},
   "outputs": [],
   "source": [
    "img = Image.new('RGB', [40, 32], color='silver')\n",
    "imgDraw = ImageDraw.Draw(img)  # Objet permettant de dessiner dans l'image\n",
    "x = 1\n",
    "y = 1\n",
    "\n",
    "for i in range(0, 255, 20):\n",
    "  color = ImageColor.getrgb(f\"rgb({i}, 150,250)\")\n",
    "  drawRectangle(imgDraw, x, y, 2, 30, color)\n",
    "  x += 2\n",
    "\n",
    "img.save(\"img-r107-tp7-5.png\")"
   ]
  },
  {
   "cell_type": "markdown",
   "metadata": {},
   "source": [
    "### 3. En faisant varier la teinte des couleurs de 0 à 360 par pas de 30 (remplacer hue par un nombre dans l’exemple ci-dessous) avec la fonction hsv() du module ImageColor :\n",
    "```py\n",
    "color=ImageColor.getrgb('hsv(hue,100%,100%)')\n",
    "```"
   ]
  },
  {
   "cell_type": "code",
   "execution_count": 76,
   "metadata": {},
   "outputs": [],
   "source": [
    "img = Image.new('RGB', [40, 32], color='silver')\n",
    "imgDraw = ImageDraw.Draw(img)  # Objet permettant de dessiner dans l'image\n",
    "x = 1\n",
    "y = 1\n",
    "\n",
    "for i in range(0, 360, 30):\n",
    "  color=ImageColor.getrgb(f'hsv({i},100%,100%)')\n",
    "  drawRectangle(imgDraw, x, y, 38, 2, color)\n",
    "  y += 2\n",
    "\n",
    "\n",
    "img.save(\"img-r107-tp7-6.png\")"
   ]
  },
  {
   "cell_type": "markdown",
   "metadata": {},
   "source": [
    "*NB : Il se peut que le format hsv() ne fonctionne pas suivant les versions de la librairie installée, utiliser alors le format hsl() en indiquant 50% sur la dernière valeur : `color=ImageColor.getrgb('hsl(hue,100%,50%)')`*"
   ]
  },
  {
   "cell_type": "markdown",
   "metadata": {},
   "source": [
    "### 4. Faire un damier avec le nombre de cases paramétrable (m lignes et n colonnes)"
   ]
  },
  {
   "cell_type": "markdown",
   "metadata": {},
   "source": [
    "### 5. Tester enfin la fonction `ImageDraw.text(xy, text, fill=None, font=None, anchor=None, spacing=4, align='left', direction=None, features=None, language=None, stroke_width=0, stroke_fill=None, embedded_color=False)` avec la police DejaVuSans.ttf par exemple et une couleur au format #RRGGBB...\n",
    "\n",
    "Voir [là](https://pillow.readthedocs.io/en/stable/reference/ImageDraw.html#PIL.ImageDraw.ImageDraw.text)"
   ]
  }
 ],
 "metadata": {
  "kernelspec": {
   "display_name": "Python 3.10.7 64-bit",
   "language": "python",
   "name": "python3"
  },
  "language_info": {
   "codemirror_mode": {
    "name": "ipython",
    "version": 3
   },
   "file_extension": ".py",
   "mimetype": "text/x-python",
   "name": "python",
   "nbconvert_exporter": "python",
   "pygments_lexer": "ipython3",
   "version": "3.10.7"
  },
  "orig_nbformat": 4,
  "vscode": {
   "interpreter": {
    "hash": "e7370f93d1d0cde622a1f8e1c04877d8463912d04d973331ad4851f04de6915a"
   }
  }
 },
 "nbformat": 4,
 "nbformat_minor": 2
}
