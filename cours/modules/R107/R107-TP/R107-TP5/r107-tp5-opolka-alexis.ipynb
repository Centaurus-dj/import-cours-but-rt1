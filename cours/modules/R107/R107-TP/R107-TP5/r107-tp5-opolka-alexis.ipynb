{
 "cells": [
  {
   "cell_type": "markdown",
   "metadata": {},
   "source": [
    "# R107-TP5 Opolka Alexis"
   ]
  },
  {
   "cell_type": "markdown",
   "metadata": {},
   "source": [
    "## 1. Introduction :\n",
    "\n",
    "Soit la variable suivante:"
   ]
  },
  {
   "cell_type": "code",
   "execution_count": 77,
   "metadata": {},
   "outputs": [],
   "source": [
    "g = [[1,2,3,], [\"a\", \"b\", \"c\"]]"
   ]
  },
  {
   "cell_type": "markdown",
   "metadata": {},
   "source": [
    "### 1. Quel est le contenu de g[0][1] ? de g[1][2] ?"
   ]
  },
  {
   "cell_type": "code",
   "execution_count": 78,
   "metadata": {},
   "outputs": [
    {
     "name": "stdout",
     "output_type": "stream",
     "text": [
      "Le contenu de g[0][1] est: 2\n",
      "Le contenu de g[1][2] est: c\n"
     ]
    }
   ],
   "source": [
    "print(\"Le contenu de g[0][1] est:\", g[0][1])\n",
    "print(\"Le contenu de g[1][2] est:\", g[1][2])"
   ]
  },
  {
   "cell_type": "markdown",
   "metadata": {},
   "source": [
    "### 2. Comment afficher g sous la forme de 2 lignes de 3 valeurs séparées par des espaces ?"
   ]
  },
  {
   "cell_type": "code",
   "execution_count": 79,
   "metadata": {},
   "outputs": [
    {
     "name": "stdout",
     "output_type": "stream",
     "text": [
      "1 2 3 \n",
      "a b c \n"
     ]
    }
   ],
   "source": [
    "for dataline in g:\n",
    "  for data in dataline:\n",
    "    print(data, end=\" \")\n",
    "  print(\"\")"
   ]
  },
  {
   "cell_type": "markdown",
   "metadata": {},
   "source": [
    "### 3. Comment afficher g sous la forme de 3 lignes et 2 colonnes ?"
   ]
  },
  {
   "cell_type": "code",
   "execution_count": 80,
   "metadata": {},
   "outputs": [
    {
     "name": "stdout",
     "output_type": "stream",
     "text": [
      "1 a \n",
      "2 b \n",
      "3 c \n"
     ]
    }
   ],
   "source": [
    "for x  in range(0, len(g[0])):\n",
    "  for y in g:\n",
    "    print(y[x], end=\" \")\n",
    "  print(\"\")"
   ]
  },
  {
   "cell_type": "markdown",
   "metadata": {},
   "source": [
    "## 2.Bataille navale :\n",
    "\n",
    "Le but du jeu est de « couler » tous les bateaux du joueur adverse. Chaque joueur possède les bateaux suivants :\n",
    "\n",
    "- 1 PORTE_AVION (noté P) de taille 4\n",
    "- 2 CROISEURS (noté C) de taille 3\n",
    "- 3 TORPILLEURS (noté T) de taille 2\n",
    "- 4 SOUS_MARIN (noté S) de taille 1\n",
    "\n",
    "Ils sont placés secrètement, sans se toucher, sur une grille carrée de 8 lignes par 10 colonnes (dans notre cas).\n",
    "Chaque joueur, à son tour, « fait feu » sur une case donnée de l'adversaire. S'il s'agit du morceau d'un bateau ennemi,\n",
    "l'adversaire indique « touché » et le joueur attaquant peut « tirer » une seconde fois. Quand tous les morceaux d’un\n",
    "bateau sont touchés, on doit dire « touché-coulé ». Si un joueur manque sa cible, on dit alors « dans l'eau » et le tour\n",
    "du joueur est terminé. Le joueur ayant coulé le premier, tous les bateaux de son adversaire a gagné la partie.\n",
    "\n",
    "### 1. Tester le jeu en ligne par exemple sur http://fr.battleship-game.org/.\n",
    "### 2. On décide de représenter les morceaux de chaque bateau par une lettre et les cases vides par un tiret. Créer manuellement une liste de liste contenant les 8 lignes et les 10 colonnes de la grille suivante :\n",
    "\n",
    "![fig1-2](./src/fig1-2.png)"
   ]
  },
  {
   "cell_type": "code",
   "execution_count": 81,
   "metadata": {},
   "outputs": [],
   "source": [
    "# - C C C - - - T T -\n",
    "# - - - - - - - - - -\n",
    "# C - - - - - - - - -\n",
    "# C - P P P P - - - T\n",
    "# C - - - - - - - - T\n",
    "# - - S - T - - - - -\n",
    "# - - - - T - - S - S\n",
    "# - S - - - - - - - -\n",
    "\n",
    "def createBoard(width: int, height: int)-> list:\n",
    "  \"\"\"A function used to create the board of any board game\n",
    "\n",
    "    Arguments\n",
    "    ---\n",
    "      `width`:\n",
    "        The width of the board, can only be an int\n",
    "      `height`:\n",
    "        The height of the board, can only be an int\n",
    "\n",
    "    Output: a list with the len() of height and each cell has a len() of width\n",
    "  \"\"\"\n",
    "  return [[[\"-\"] for x in range(0, width)] for y in range(0, height)]\n",
    "\n",
    "test_board = [\n",
    "  [\"-\", \"C\", \"C\", \"C\", \"-\", \"-\", \"-\", \"T\", \"T\", \"-\"],\n",
    "  [\"-\", \"-\", \"-\", \"-\", \"-\", \"-\", \"-\", \"-\", \"-\", \"-\"],\n",
    "  [\"C\", \"-\", \"-\", \"-\", \"-\", \"-\", \"-\", \"-\", \"-\", \"-\"],\n",
    "  [\"C\", \"-\", \"P\", \"P\", \"P\", \"P\", \"-\", \"-\", \"-\", \"T\"],\n",
    "  [\"C\", \"-\", \"-\", \"-\", \"-\", \"-\", \"-\", \"-\", \"-\", \"T\"],\n",
    "  [\"-\", \"-\", \"S\", \"-\", \"T\", \"-\", \"-\", \"-\", \"-\", \"-\"],\n",
    "  [\"-\", \"-\", \"-\", \"-\", \"T\", \"-\", \"-\", \"S\", \"-\", \"S\"],\n",
    "  [\"-\", \"S\", \"-\", \"-\", \"-\", \"-\", \"-\", \"-\", \"-\", \"-\",]\n",
    "]\n",
    "\n",
    "main_board = createBoard(10, 8)"
   ]
  },
  {
   "cell_type": "markdown",
   "metadata": {},
   "source": [
    "### 3. Créer ensuite une fonction qui affiche uniquement le contenu d’une grille (Voir fig. 1 : Version simple).\n",
    "\n",
    "EN OPTION : Afficher la numérotation des lignes et des colonnes (Voir fig. 2). Pour les colonnes, on peut,\n",
    "soit utiliser une liste contenant les lettres ABCD..., soit afficher la lettre à partir de son code ASCII : la\n",
    "fonction ord(c) donne le code ASCII de la lettre c et la fonction chr(x) donne le caractère\n",
    "correspondant au code ASCII x."
   ]
  },
  {
   "cell_type": "code",
   "execution_count": 82,
   "metadata": {},
   "outputs": [
    {
     "name": "stdout",
     "output_type": "stream",
     "text": [
      " - C C C - - - T T - \n",
      " - - - - - - - - - - \n",
      " C - - - - - - - - - \n",
      " C - P P P P - - - T \n",
      " C - - - - - - - - T \n",
      " - - S - T - - - - - \n",
      " - - - - T - - S - S \n",
      " - S - - - - - - - - \n",
      "  A B C D E F G H I J \n",
      "1 - C C C - - - T T - \n",
      "2 - - - - - - - - - - \n",
      "3 C - - - - - - - - - \n",
      "4 C - P P P P - - - T \n",
      "5 C - - - - - - - - T \n",
      "6 - - S - T - - - - - \n",
      "7 - - - - T - - S - S \n",
      "8 - S - - - - - - - - \n"
     ]
    }
   ],
   "source": [
    "def showBoard(board, show_index=False):\n",
    "  global alphabet\n",
    "\n",
    "  if show_index:\n",
    "    for i in range(0, len(board[0])):\n",
    "      ### If first letter, automatically add a space in order to re-caliber the ouput\n",
    "      if i == 0:\n",
    "        print(\" \", end=\"\")\n",
    "      print(alphabet[i], end=\" \")\n",
    "    print(\"\")\n",
    "  for y in range(0, len(board)):\n",
    "    for x in range(0, len(board[y])):\n",
    "      if x == 0:\n",
    "        print(y+1 if show_index else \"\", end=\" \")\n",
    "      print(board[y][x][0], end=\" \")\n",
    "    print(\"\")\n",
    "\n",
    "alphabet = [ \"A\", \"B\", \"C\", \"D\", \"E\",\n",
    "    \"F\", \"G\", \"H\", \"I\", \"J\", \"K\", \"L\",\n",
    "    \"M\", \"N\", \"O\", \"P\", \"Q\", \"R\", \"S\",\n",
    "    \"T\", \"U\", \"V\", \"W\", \"X\", \"Y\", \"Z\"]\n",
    "\n",
    "showBoard(test_board)\n",
    "print(\"\", end=\" \")\n",
    "showBoard(test_board, True)"
   ]
  },
  {
   "cell_type": "markdown",
   "metadata": {},
   "source": [
    "### 4. Comment obtenir le contenu de la case « C4 » ? Faire une fonction qui transforme la chaîne passée en paramètre en coordonnées de la case dans la grille (i pour les lignes et j pour les colonnes).\n",
    "Pour la valeur C4, on doit obtenir i=3 et j=2. Tester ensuite votre fonction pour les cases « H7 » et « F6 ».\n",
    "\n",
    "```py\n",
    "cStr=\"C4\"\n",
    "i,j=getCoordonnees(cStr)\n",
    "print(\"La case\",cStr,\"i =\",i,\"j =\",j,\"contient :\",g[i][j])\n",
    "```"
   ]
  },
  {
   "cell_type": "code",
   "execution_count": 87,
   "metadata": {},
   "outputs": [
    {
     "name": "stdout",
     "output_type": "stream",
     "text": [
      "La case C4 i = 3 j = 2 contient : P\n",
      "La case H7 i = 6 j = 7 contient : S\n",
      "La case F6 i = 5 j = 5 contient : -\n"
     ]
    }
   ],
   "source": [
    "def getCoordonnees(case_stringed):\n",
    "  global alphabet\n",
    "  x,y = case_stringed[0], int(case_stringed[1])\n",
    "  ### We substract 1 to y because we start at 1\n",
    "  return (y-1, alphabet.index(x))\n",
    "\n",
    "cStr=\"C4\"\n",
    "cStr1=\"H7\"\n",
    "cStr2=\"F6\"\n",
    "i,j = getCoordonnees(cStr)\n",
    "i1,j1 = getCoordonnees(cStr1)\n",
    "i2,j2 = getCoordonnees(cStr2)\n",
    "print(\"La case\", cStr, \"i =\", i, \"j =\", j, \"contient :\", test_board[i][j])\n",
    "print(\"La case\", cStr1, \"i =\", i1, \"j =\", j1, \"contient :\", test_board[i1][j1])\n",
    "print(\"La case\", cStr2, \"i =\", i2, \"j =\", j2, \"contient :\", test_board[i2][j2])"
   ]
  },
  {
   "cell_type": "markdown",
   "metadata": {},
   "source": [
    "### 5. Comment noter les cases indiquées par l’adversaire dans la grille, @ quand un bateau est touché et * quand c’est dans l’eau."
   ]
  },
  {
   "cell_type": "code",
   "execution_count": 90,
   "metadata": {},
   "outputs": [
    {
     "name": "stdout",
     "output_type": "stream",
     "text": [
      "Action result of C4 hit: @\n",
      "Action result of F6 hit: *\n"
     ]
    }
   ],
   "source": [
    "def getAction(cell, board):\n",
    "  y,x = getCoordonnees(cell)\n",
    "  if board[y][x] != \"-\":\n",
    "    return \"@\"\n",
    "  else:\n",
    "    return \"*\"\n",
    "\n",
    "print(\"Action result of C4 hit:\", getAction(\"C4\", test_board))\n",
    "print(\"Action result of F6 hit:\", getAction(\"F6\", test_board))"
   ]
  },
  {
   "cell_type": "markdown",
   "metadata": {},
   "source": [
    "### 6. Faire une boucle dans laquelle on entre une case au clavier, on modifie la grille et on la ré-affiche."
   ]
  },
  {
   "cell_type": "code",
   "execution_count": 91,
   "metadata": {},
   "outputs": [],
   "source": [
    "try:\n",
    "  while True:\n",
    "    print(True)\n",
    "except KeyboardInterrupt:\n",
    "  print(\"Program Interrupted\")"
   ]
  },
  {
   "cell_type": "markdown",
   "metadata": {},
   "source": [
    "### 8. Comment déterminer quand tous les bateaux sont coulés ?"
   ]
  },
  {
   "cell_type": "markdown",
   "metadata": {},
   "source": [
    "### 9. Comment afficher les coups de l’adversaire en couleur dans le terminal (rouge pour « touché » et bleu pour « dans l’eau ») voir par exemple le module termcolor (Si besoin : pip3 install termcolor)."
   ]
  },
  {
   "cell_type": "markdown",
   "metadata": {},
   "source": [
    "### 10. Comment sauvegarder une grille dans un fichier ? Faire une fonction."
   ]
  },
  {
   "cell_type": "markdown",
   "metadata": {},
   "source": [
    "### 11. Comment lire un fichier de sauvegarde ? Faire une fonction."
   ]
  },
  {
   "cell_type": "markdown",
   "metadata": {},
   "source": [
    "## 3. Mise en place des bateaux :\n",
    "\n",
    "Dans cette partie, on désire pouvoir placer les bateaux sur une grille vide.\n",
    "\n"
   ]
  },
  {
   "cell_type": "markdown",
   "metadata": {},
   "source": [
    "### 1. Créer une fonction qui fabrique une grille vide."
   ]
  },
  {
   "cell_type": "markdown",
   "metadata": {},
   "source": [
    "### 2. Comment placer le PORTE_AVION (noté P) de taille 4, en position B2 orienté en vertical pour obtenir la grille de la figure 3 ?\n",
    "\n",
    "![fig3-4](./src/fig3-4.png)"
   ]
  },
  {
   "cell_type": "markdown",
   "metadata": {},
   "source": [
    "### 3. Que faut-il changer pour obtenir la figure 4, avec le bateau en horizontal ?"
   ]
  },
  {
   "cell_type": "markdown",
   "metadata": {},
   "source": [
    "### 4. Créer alors 2 fonctions (placeBateauHorizontal() et placeBateauVertical()) pour placer des bateaux sur une grille à partir de la position souhaitée, de la lettre représentant le bateau et de sa taille."
   ]
  },
  {
   "cell_type": "markdown",
   "metadata": {},
   "source": [
    "### 5. Si au lieu de placer le PORTE_AVION en B2, on choisit la case H6. Pourquoi ne peut-on pas placer le bateau en horizontal ou en vertical ? Quel test faut-il faire ?\n",
    "Créer alors les fonctions verifHorizontal(grille,pos,taille) et verifVertical(grille,pos,taille)."
   ]
  },
  {
   "cell_type": "markdown",
   "metadata": {},
   "source": [
    "### 6. Lorsque l’on doit placer les autres bateaux, il faut aussi vérifier que les bateaux ne se superposent pas et qu’ils ne se touchent pas également (Voir figures 1 et 2). Par exemple les grilles des figures 5 et 6 ci-dessous sont incorrectes :\n",
    "\n",
    "![fig5-6](./src/fig5-6.png)"
   ]
  },
  {
   "cell_type": "markdown",
   "metadata": {},
   "source": [
    "### 7. Faire une boucle placer tous les bateaux sur la grille en demandant à chaque fois à l’utilisateur la position et l’orientation."
   ]
  },
  {
   "cell_type": "markdown",
   "metadata": {},
   "source": [
    "### 8. Comment générer une grille avec un placement aléatoire (Voir module random et la fonction randint()) ?"
   ]
  },
  {
   "cell_type": "markdown",
   "metadata": {},
   "source": [
    "## 4. Programmation réseau :\n",
    "\n",
    "Dans cette partie, on désire pouvoir jouer à distance entre 2 machines. On vous fourni un exemple de client/serveur\n",
    "réalisant un échange de textes entre 2 programmes."
   ]
  },
  {
   "cell_type": "markdown",
   "metadata": {},
   "source": [
    "### 1. Tester les fichiers fournis : lancer en premier bnServer-base.py dans une console et bnClientbase.py dans une autre.\n",
    "\n",
    "Modifier les message envoyés entre le client et le serveur."
   ]
  },
  {
   "cell_type": "markdown",
   "metadata": {},
   "source": [
    "### 2. Adapter alors les 2 programmes pour réaliser une connexion distante entre 2 joueurs de bataille navale.\n",
    "\n",
    "On pourra partir avec une grille sauvegardée en fichier des 2 cotés ou bien utiliser le système aléatoire de la question 3.8. Pour simplifier un peu le système, on ne fera uniquement qu’un 1 seul coup par joueur.\\\n",
    "Le client jouera donc en premier en envoyant une position B3 par exemple et le serveur devra répondre en fonction de sa grille (TOUCHE ou bien DANS L’EAU). Ensuite ce sera au tour du serveur d’envoyer une position, etc... A chaque coup on devra afficher la grille personnelle et la grille de tir."
   ]
  },
  {
   "cell_type": "markdown",
   "metadata": {},
   "source": [
    "### 3. Finaliser le jeu pour que quand un joueur touche un bateau, il puisse rejouer à nouveau."
   ]
  }
 ],
 "metadata": {
  "kernelspec": {
   "display_name": "Python 3.10.7 64-bit",
   "language": "python",
   "name": "python3"
  },
  "language_info": {
   "codemirror_mode": {
    "name": "ipython",
    "version": 3
   },
   "file_extension": ".py",
   "mimetype": "text/x-python",
   "name": "python",
   "nbconvert_exporter": "python",
   "pygments_lexer": "ipython3",
   "version": "3.10.7"
  },
  "orig_nbformat": 4,
  "vscode": {
   "interpreter": {
    "hash": "369f2c481f4da34e4445cda3fffd2e751bd1c4d706f27375911949ba6bb62e1c"
   }
  }
 },
 "nbformat": 4,
 "nbformat_minor": 2
}
