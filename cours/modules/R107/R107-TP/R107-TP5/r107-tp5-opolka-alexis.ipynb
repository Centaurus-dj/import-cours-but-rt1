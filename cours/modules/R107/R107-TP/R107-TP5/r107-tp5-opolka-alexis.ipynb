{
 "cells": [
  {
   "cell_type": "markdown",
   "metadata": {},
   "source": [
    "# R107-TP5 Opolka Alexis"
   ]
  },
  {
   "cell_type": "markdown",
   "metadata": {},
   "source": [
    "## 1. Introduction :\n",
    "\n",
    "Soit la variable suivante:"
   ]
  },
  {
   "cell_type": "code",
   "execution_count": 2,
   "metadata": {},
   "outputs": [],
   "source": [
    "g = [[1,2,3,], [\"a\", \"b\", \"c\"]]"
   ]
  },
  {
   "cell_type": "markdown",
   "metadata": {},
   "source": [
    "### 1. Quel est le contenu de g[0][1] ? de g[1][2] ?"
   ]
  },
  {
   "cell_type": "code",
   "execution_count": 3,
   "metadata": {},
   "outputs": [
    {
     "name": "stdout",
     "output_type": "stream",
     "text": [
      "Le contenu de g[0][1] est: 2\n",
      "Le contenu de g[1][2] est: c\n"
     ]
    }
   ],
   "source": [
    "print(\"Le contenu de g[0][1] est:\", g[0][1])\n",
    "print(\"Le contenu de g[1][2] est:\", g[1][2])"
   ]
  },
  {
   "cell_type": "markdown",
   "metadata": {},
   "source": [
    "### 2. Comment afficher g sous la forme de 2 lignes de 3 valeurs séparées par des espaces ?"
   ]
  },
  {
   "cell_type": "code",
   "execution_count": 4,
   "metadata": {},
   "outputs": [
    {
     "name": "stdout",
     "output_type": "stream",
     "text": [
      "1 2 3 \n",
      "a b c \n"
     ]
    }
   ],
   "source": [
    "for dataline in g:\n",
    "  for data in dataline:\n",
    "    print(data, end=\" \")\n",
    "  print(\"\")"
   ]
  },
  {
   "cell_type": "markdown",
   "metadata": {},
   "source": [
    "### 3. Comment afficher g sous la forme de 3 lignes et 2 colonnes ?"
   ]
  },
  {
   "cell_type": "code",
   "execution_count": 15,
   "metadata": {},
   "outputs": [
    {
     "name": "stdout",
     "output_type": "stream",
     "text": [
      "1 a \n",
      "2 b \n",
      "3 c \n"
     ]
    }
   ],
   "source": [
    "for x  in range(0, len(g[0])):\n",
    "  for y in g:\n",
    "    print(y[x], end=\" \")\n",
    "  print(\"\")"
   ]
  },
  {
   "cell_type": "markdown",
   "metadata": {},
   "source": [
    "## 2.Bataille navale :\n",
    "\n",
    "Le but du jeu est de « couler » tous les bateaux du joueur adverse. Chaque joueur possède les bateaux suivants :\n",
    "\n",
    "- 1 PORTE_AVION (noté P) de taille 4\n",
    "- 2 CROISEURS (noté C) de taille 3\n",
    "- 3 TORPILLEURS (noté T) de taille 2\n",
    "- 4 SOUS_MARIN (noté S) de taille 1\n",
    "\n",
    "Ils sont placés secrètement, sans se toucher, sur une grille carrée de 8 lignes par 10 colonnes (dans notre cas).\n",
    "Chaque joueur, à son tour, « fait feu » sur une case donnée de l'adversaire. S'il s'agit du morceau d'un bateau ennemi,\n",
    "l'adversaire indique « touché » et le joueur attaquant peut « tirer » une seconde fois. Quand tous les morceaux d’un\n",
    "bateau sont touchés, on doit dire « touché-coulé ». Si un joueur manque sa cible, on dit alors « dans l'eau » et le tour\n",
    "du joueur est terminé. Le joueur ayant coulé le premier, tous les bateaux de son adversaire a gagné la partie.\n",
    "\n",
    "1. Tester le jeu en ligne par exemple sur http://fr.battleship-game.org/.\n",
    "1. On décide de représenter les morceaux de chaque bateau par une lettre et les cases vides par un tiret. Créer manuellement une liste de liste contenant les 8 lignes et les 10 colonnes de la grille suivante :"
   ]
  },
  {
   "cell_type": "code",
   "execution_count": null,
   "metadata": {},
   "outputs": [],
   "source": [
    "### Bataille navale"
   ]
  }
 ],
 "metadata": {
  "kernelspec": {
   "display_name": "Python 3.10.7 64-bit",
   "language": "python",
   "name": "python3"
  },
  "language_info": {
   "codemirror_mode": {
    "name": "ipython",
    "version": 3
   },
   "file_extension": ".py",
   "mimetype": "text/x-python",
   "name": "python",
   "nbconvert_exporter": "python",
   "pygments_lexer": "ipython3",
   "version": "3.10.7"
  },
  "orig_nbformat": 4,
  "vscode": {
   "interpreter": {
    "hash": "369f2c481f4da34e4445cda3fffd2e751bd1c4d706f27375911949ba6bb62e1c"
   }
  }
 },
 "nbformat": 4,
 "nbformat_minor": 2
}
