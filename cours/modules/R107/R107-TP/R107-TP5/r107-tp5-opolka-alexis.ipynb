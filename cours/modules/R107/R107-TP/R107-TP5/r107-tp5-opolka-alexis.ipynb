{
 "cells": [
  {
   "cell_type": "markdown",
   "metadata": {},
   "source": [
    "# R107-TP5 Opolka Alexis"
   ]
  },
  {
   "cell_type": "code",
   "execution_count": 51,
   "metadata": {},
   "outputs": [],
   "source": [
    "### Put here the imports required\n",
    "import os\n",
    "try:\n",
    "  import termcolor\n",
    "except ModuleNotFoundError:\n",
    "  import importlib\n",
    "  try:\n",
    "    os.system(\"pip3 install termcolor\")\n",
    "    importlib.import_module(\"termcolor\")\n",
    "  except:\n",
    "    print(\"An error occured while downloading a dependency: termcolor\")\n",
    "    exit(1)\n",
    "\n",
    "from datetime import datetime\n"
   ]
  },
  {
   "cell_type": "markdown",
   "metadata": {},
   "source": [
    "## 1. Introduction :\n",
    "\n",
    "Soit la variable suivante:"
   ]
  },
  {
   "cell_type": "code",
   "execution_count": 52,
   "metadata": {},
   "outputs": [],
   "source": [
    "g = [[1,2,3,], [\"a\", \"b\", \"c\"]]"
   ]
  },
  {
   "cell_type": "markdown",
   "metadata": {},
   "source": [
    "### 1. Quel est le contenu de g[0][1] ? de g[1][2] ?"
   ]
  },
  {
   "cell_type": "code",
   "execution_count": 53,
   "metadata": {},
   "outputs": [
    {
     "name": "stdout",
     "output_type": "stream",
     "text": [
      "Le contenu de g[0][1] est: 2\n",
      "Le contenu de g[1][2] est: c\n"
     ]
    }
   ],
   "source": [
    "print(\"Le contenu de g[0][1] est:\", g[0][1])\n",
    "print(\"Le contenu de g[1][2] est:\", g[1][2])"
   ]
  },
  {
   "cell_type": "markdown",
   "metadata": {},
   "source": [
    "### 2. Comment afficher g sous la forme de 2 lignes de 3 valeurs séparées par des espaces ?"
   ]
  },
  {
   "cell_type": "code",
   "execution_count": 54,
   "metadata": {},
   "outputs": [
    {
     "name": "stdout",
     "output_type": "stream",
     "text": [
      "1 2 3 \n",
      "a b c \n"
     ]
    }
   ],
   "source": [
    "for dataline in g:\n",
    "  for data in dataline:\n",
    "    print(data, end=\" \")\n",
    "  print(\"\")"
   ]
  },
  {
   "cell_type": "markdown",
   "metadata": {},
   "source": [
    "### 3. Comment afficher g sous la forme de 3 lignes et 2 colonnes ?"
   ]
  },
  {
   "cell_type": "code",
   "execution_count": 55,
   "metadata": {},
   "outputs": [
    {
     "name": "stdout",
     "output_type": "stream",
     "text": [
      "1 a \n",
      "2 b \n",
      "3 c \n"
     ]
    }
   ],
   "source": [
    "for x  in range(0, len(g[0])):\n",
    "  for y in g:\n",
    "    print(y[x], end=\" \")\n",
    "  print(\"\")"
   ]
  },
  {
   "cell_type": "markdown",
   "metadata": {},
   "source": [
    "## 2.Bataille navale :\n",
    "\n",
    "Le but du jeu est de « couler » tous les bateaux du joueur adverse. Chaque joueur possède les bateaux suivants :\n",
    "\n",
    "- 1 PORTE_AVION (noté P) de taille 4\n",
    "- 2 CROISEURS (noté C) de taille 3\n",
    "- 3 TORPILLEURS (noté T) de taille 2\n",
    "- 4 SOUS_MARIN (noté S) de taille 1\n",
    "\n",
    "Ils sont placés secrètement, sans se toucher, sur une grille carrée de 8 lignes par 10 colonnes (dans notre cas).\n",
    "Chaque joueur, à son tour, « fait feu » sur une case donnée de l'adversaire. S'il s'agit du morceau d'un bateau ennemi,\n",
    "l'adversaire indique « touché » et le joueur attaquant peut « tirer » une seconde fois. Quand tous les morceaux d’un\n",
    "bateau sont touchés, on doit dire « touché-coulé ». Si un joueur manque sa cible, on dit alors « dans l'eau » et le tour\n",
    "du joueur est terminé. Le joueur ayant coulé le premier, tous les bateaux de son adversaire a gagné la partie.\n",
    "\n",
    "### 1. Tester le jeu en ligne par exemple sur http://fr.battleship-game.org/.\n",
    "### 2. On décide de représenter les morceaux de chaque bateau par une lettre et les cases vides par un tiret. Créer manuellement une liste de liste contenant les 8 lignes et les 10 colonnes de la grille suivante :\n",
    "\n",
    "![fig1-2](./src/fig1-2.png)"
   ]
  },
  {
   "cell_type": "code",
   "execution_count": 56,
   "metadata": {},
   "outputs": [],
   "source": [
    "# - C C C - - - T T -\n",
    "# - - - - - - - - - -\n",
    "# C - - - - - - - - -\n",
    "# C - P P P P - - - T\n",
    "# C - - - - - - - - T\n",
    "# - - S - T - - - - -\n",
    "# - - - - T - - S - S\n",
    "# - S - - - - - - - -\n",
    "\n",
    "def createBoard(width: int, height: int)-> list:\n",
    "  \"\"\"A function used to create the board of any board game\n",
    "\n",
    "    Arguments\n",
    "    ---\n",
    "      `width`:\n",
    "        The width of the board, can only be an int\n",
    "      `height`:\n",
    "        The height of the board, can only be an int\n",
    "\n",
    "    Output: a list with the len() of height and each cell has a len() of width\n",
    "  \"\"\"\n",
    "  return [[[\"-\"] for x in range(0, width)] for y in range(0, height)]\n",
    "\n",
    "test_board = [\n",
    "  [\"-\", \"C\", \"C\", \"C\", \"-\", \"-\", \"-\", \"T\", \"T\", \"-\"],\n",
    "  [\"-\", \"-\", \"-\", \"-\", \"-\", \"-\", \"-\", \"-\", \"-\", \"-\"],\n",
    "  [\"C\", \"-\", \"-\", \"-\", \"-\", \"-\", \"-\", \"-\", \"-\", \"-\"],\n",
    "  [\"C\", \"-\", \"P\", \"P\", \"P\", \"P\", \"-\", \"-\", \"-\", \"T\"],\n",
    "  [\"C\", \"-\", \"-\", \"-\", \"-\", \"-\", \"-\", \"-\", \"-\", \"T\"],\n",
    "  [\"-\", \"-\", \"S\", \"-\", \"T\", \"-\", \"-\", \"-\", \"-\", \"-\"],\n",
    "  [\"-\", \"-\", \"-\", \"-\", \"T\", \"-\", \"-\", \"S\", \"-\", \"S\"],\n",
    "  [\"-\", \"S\", \"-\", \"-\", \"-\", \"-\", \"-\", \"-\", \"-\", \"-\",]\n",
    "]\n",
    "\n",
    "main_board = createBoard(10, 8)"
   ]
  },
  {
   "cell_type": "markdown",
   "metadata": {},
   "source": [
    "### 3. Créer ensuite une fonction qui affiche uniquement le contenu d’une grille (Voir fig. 1 : Version simple).\n",
    "\n",
    "EN OPTION : Afficher la numérotation des lignes et des colonnes (Voir fig. 2). Pour les colonnes, on peut,\n",
    "soit utiliser une liste contenant les lettres ABCD..., soit afficher la lettre à partir de son code ASCII : la\n",
    "fonction ord(c) donne le code ASCII de la lettre c et la fonction chr(x) donne le caractère\n",
    "correspondant au code ASCII x."
   ]
  },
  {
   "cell_type": "code",
   "execution_count": 57,
   "metadata": {},
   "outputs": [
    {
     "name": "stdout",
     "output_type": "stream",
     "text": [
      "Only the Board:\n",
      " - C C C - - - T T - \n",
      " - - - - - - - - - - \n",
      " C - - - - - - - - - \n",
      " C - P P P P - - - T \n",
      " C - - - - - - - - T \n",
      " - - S - T - - - - - \n",
      " - - - - T - - S - S \n",
      " - S - - - - - - - - \n",
      "\n",
      "Now with the indexes:\n",
      "  A B C D E F G H I J \n",
      "1 - C C C - - - T T - \n",
      "2 - - - - - - - - - - \n",
      "3 C - - - - - - - - - \n",
      "4 C - P P P P - - - T \n",
      "5 C - - - - - - - - T \n",
      "6 - - S - T - - - - - \n",
      "7 - - - - T - - S - S \n",
      "8 - S - - - - - - - - \n"
     ]
    }
   ],
   "source": [
    "def showBoard(board, show_index=False):\n",
    "  global alphabet\n",
    "\n",
    "  if show_index:\n",
    "    for i in range(0, len(board[0])):\n",
    "      ### If first letter, automatically add a space in order to re-caliber the ouput\n",
    "      if i == 0:\n",
    "        print(\" \", end=\" \")\n",
    "      print(alphabet[i], end=\" \")\n",
    "    print(\"\")\n",
    "  for y in range(0, len(board)):\n",
    "    for x in range(0, len(board[y])):\n",
    "      if x == 0:\n",
    "        print(y+1 if show_index else \"\", end=\" \")\n",
    "      print(board[y][x][0], end=\" \")\n",
    "    print(\"\")\n",
    "\n",
    "alphabet = [ \"A\", \"B\", \"C\", \"D\", \"E\",\n",
    "    \"F\", \"G\", \"H\", \"I\", \"J\", \"K\", \"L\",\n",
    "    \"M\", \"N\", \"O\", \"P\", \"Q\", \"R\", \"S\",\n",
    "    \"T\", \"U\", \"V\", \"W\", \"X\", \"Y\", \"Z\"]\n",
    "\n",
    "print(\"Only the Board:\")\n",
    "showBoard(test_board)\n",
    "print(\"\\nNow with the indexes:\")\n",
    "showBoard(test_board, True)"
   ]
  },
  {
   "cell_type": "markdown",
   "metadata": {},
   "source": [
    "### 4. Comment obtenir le contenu de la case « C4 » ? Faire une fonction qui transforme la chaîne passée en paramètre en coordonnées de la case dans la grille (i pour les lignes et j pour les colonnes).\n",
    "Pour la valeur C4, on doit obtenir i=3 et j=2. Tester ensuite votre fonction pour les cases « H7 » et « F6 ».\n",
    "\n",
    "```py\n",
    "cStr=\"C4\"\n",
    "i,j=getCoordonnees(cStr)\n",
    "print(\"La case\",cStr,\"i =\",i,\"j =\",j,\"contient :\",g[i][j])\n",
    "```"
   ]
  },
  {
   "cell_type": "code",
   "execution_count": 58,
   "metadata": {},
   "outputs": [
    {
     "name": "stdout",
     "output_type": "stream",
     "text": [
      "La case C4 i = 3 j = 2 contient : P\n",
      "La case H7 i = 6 j = 7 contient : S\n",
      "La case F6 i = 5 j = 5 contient : -\n"
     ]
    }
   ],
   "source": [
    "def getCoordonnees(case_stringed):\n",
    "  global alphabet\n",
    "  x,y = case_stringed[0], int(case_stringed[1])\n",
    "  ### We substract 1 to y because we start at 1\n",
    "  return (y-1, alphabet.index(x))\n",
    "\n",
    "cStr=\"C4\"\n",
    "cStr1=\"H7\"\n",
    "cStr2=\"F6\"\n",
    "i,j = getCoordonnees(cStr)\n",
    "i1,j1 = getCoordonnees(cStr1)\n",
    "i2,j2 = getCoordonnees(cStr2)\n",
    "print(\"La case\", cStr, \"i =\", i, \"j =\", j, \"contient :\", test_board[i][j])\n",
    "print(\"La case\", cStr1, \"i =\", i1, \"j =\", j1, \"contient :\", test_board[i1][j1])\n",
    "print(\"La case\", cStr2, \"i =\", i2, \"j =\", j2, \"contient :\", test_board[i2][j2])"
   ]
  },
  {
   "cell_type": "markdown",
   "metadata": {},
   "source": [
    "### 5. Comment noter les cases indiquées par l’adversaire dans la grille, @ quand un bateau est touché et * quand c’est dans l’eau."
   ]
  },
  {
   "cell_type": "code",
   "execution_count": 59,
   "metadata": {},
   "outputs": [
    {
     "name": "stdout",
     "output_type": "stream",
     "text": [
      "Action result of C4 hit: @\n",
      "Action result of F6 hit: *\n"
     ]
    }
   ],
   "source": [
    "def getAction(cell, board):\n",
    "  \"\"\"A simple function returning a str object\n",
    "    following the type of action it has been.\n",
    "    *A duplicate of getIfHit()*\n",
    "\n",
    "    Args\n",
    "    ----\n",
    "      `cell`, str: A str object containing the cell with its indexes, example: C4\n",
    "      `board`, list: A list object containing the board to be affected by this action\n",
    "  \"\"\"\n",
    "\n",
    "  y,x = getCoordonnees(cell)\n",
    "  if board[y][x] != \"-\":\n",
    "    return \"@\"\n",
    "  else:\n",
    "    return \"*\"\n",
    "\n",
    "\n",
    "def getIfHit(cell, board):\n",
    "  y, x = getCoordonnees(cell)\n",
    "  if board[y][x] != \"-\":\n",
    "    return True\n",
    "  else:\n",
    "    return False\n",
    "\n",
    "def showActionResult(action):\n",
    "  \"\"\"Prints the result of the action\n",
    "  Args\n",
    "  ----\n",
    "    `action`, tuple: tuple containing (cell, board)\n",
    "      `cell`, str: The cell you want to hit\n",
    "      `board`, list: The board you want the action to be taken into account\n",
    "  \"\"\"\n",
    "  if getIfHit(action[0], action[1]):\n",
    "    print(\"It's a hit!\")\n",
    "  else:\n",
    "    print(\"Oh no! You missed!\")\n",
    "\n",
    "print(\"Action result of C4 hit:\", getAction(\"C4\", test_board))\n",
    "print(\"Action result of F6 hit:\", getAction(\"F6\", test_board))"
   ]
  },
  {
   "cell_type": "markdown",
   "metadata": {},
   "source": [
    "### 6. Faire une boucle dans laquelle on entre une case au clavier, on modifie la grille et on la ré-affiche."
   ]
  },
  {
   "cell_type": "code",
   "execution_count": 60,
   "metadata": {},
   "outputs": [],
   "source": [
    "def getActionIntoAction(cell, board):\n",
    "  y,x = getCoordonnees(cell)\n",
    "  board[y][x] = getAction(cell, board)\n",
    "\n",
    "def cleanNShow(board_in_question):\n",
    "  if os.name == \"posix\":\n",
    "    os.system(\"clear\")\n",
    "  else:\n",
    "    os.system(\"cls\")\n",
    "  showBoard(board_in_question, True)\n",
    "\n",
    "\n",
    "def cleanOutput():\n",
    "  if os.name == \"posix\":\n",
    "    os.system(\"clear\")\n",
    "  else:\n",
    "    os.system(\"cls\")\n",
    "\n",
    "\n",
    "def liveModifications():\n",
    "  try:\n",
    "    while True:\n",
    "      cleanNShow(test_board)\n",
    "      key = input(\"Enter a cell of the board from above: \")\n",
    "      showActionResult((key, test_board))\n",
    "      getActionIntoAction(key, test_board)\n",
    "  except KeyboardInterrupt:\n",
    "    cleanOutput()\n",
    "    print(\"Process Interrupted\")\n",
    "    return 0\n"
   ]
  },
  {
   "cell_type": "markdown",
   "metadata": {},
   "source": [
    "### 8. Comment déterminer quand tous les bateaux sont coulés ?"
   ]
  },
  {
   "cell_type": "markdown",
   "metadata": {},
   "source": [
    "On scanne toutes les cases et on voit si on tombe sur une des lettres utilisées (P,C,T,S) pour afficher un des navires"
   ]
  },
  {
   "cell_type": "code",
   "execution_count": 61,
   "metadata": {},
   "outputs": [
    {
     "data": {
      "text/plain": [
       "True"
      ]
     },
     "execution_count": 61,
     "metadata": {},
     "output_type": "execute_result"
    }
   ],
   "source": [
    "def getAliveOrNot(player_board):\n",
    "  stillAlive = False\n",
    "  for line in player_board:\n",
    "    for cell in line:\n",
    "      if cell in (\"P\", \"C\", \"T\", \"S\"):\n",
    "        if not stillAlive:\n",
    "          stillAlive = True\n",
    "  return stillAlive\n",
    "\n",
    "getAliveOrNot(test_board)"
   ]
  },
  {
   "cell_type": "markdown",
   "metadata": {},
   "source": [
    "### 9. Comment afficher les coups de l’adversaire en couleur dans le terminal (rouge pour « touché » et bleu pour « dans l’eau ») voir par exemple le module termcolor (Si besoin : pip3 install termcolor)."
   ]
  },
  {
   "cell_type": "markdown",
   "metadata": {},
   "source": [
    "On peut simplement utiliser une des fonctions définies au dessus, soit getIfHit() soit getAction(). Sur un soucis de practicalité (et de performances) on utilisera plus getIfHit() qui nous sort un boolean."
   ]
  },
  {
   "cell_type": "code",
   "execution_count": 62,
   "metadata": {},
   "outputs": [
    {
     "name": "stdout",
     "output_type": "stream",
     "text": [
      " - C C C - - - T T - \n",
      " - - - - - - - - - - \n",
      " C - \u001b[34m*\u001b[0m - - - - - - - \n",
      " C - \u001b[31m@\u001b[0m P P P - - - T \n",
      " C - - - - - - - - T \n",
      " - - S - T - - - - - \n",
      " - - - - T - - S - S \n",
      " - S - - - - - - - - \n"
     ]
    }
   ],
   "source": [
    "def showBoardColored(board, show_index=False):\n",
    "  global alphabet\n",
    "\n",
    "  if show_index:\n",
    "    for i in range(0, len(board[0])):\n",
    "      ### If first letter, automatically add a space in order to re-caliber the ouput\n",
    "      if i == 0:\n",
    "        print(\" \", end=\"\")\n",
    "      print(alphabet[i], end=\" \")\n",
    "    print(\"\")\n",
    "  for y in range(0, len(board)):\n",
    "    for x in range(0, len(board[y])):\n",
    "      curr_cell = board[y][x][0]\n",
    "\n",
    "      if x == 0:\n",
    "        print(y+1 if show_index else \"\", end=\" \")\n",
    "\n",
    "      if not curr_cell in (\"@\", \"*\"):\n",
    "        print(curr_cell, end=\" \")\n",
    "      else:\n",
    "        if curr_cell == \"@\":\n",
    "          print(termcolor.colored(curr_cell, \"red\"), end=\" \")\n",
    "        else:\n",
    "          print(termcolor.colored(curr_cell, \"blue\"), end=\" \")\n",
    "    print(\"\")\n",
    "\n",
    "\n",
    "tested_board = [\n",
    "    [\"-\", \"C\", \"C\", \"C\", \"-\", \"-\", \"-\", \"T\", \"T\", \"-\"],   # - C C C - - - T T -\n",
    "    [\"-\", \"-\", \"-\", \"-\", \"-\", \"-\", \"-\", \"-\", \"-\", \"-\"],   # - - - - - - - - - -\n",
    "    [\"C\", \"-\", \"*\", \"-\", \"-\", \"-\", \"-\", \"-\", \"-\", \"-\"],   # C - - - - - - - - -\n",
    "    [\"C\", \"-\", \"@\", \"P\", \"P\", \"P\", \"-\", \"-\", \"-\", \"T\"],   # C - P P P P - - - T\n",
    "    [\"C\", \"-\", \"-\", \"-\", \"-\", \"-\", \"-\", \"-\", \"-\", \"T\"],   # C - - - - - - - - T\n",
    "    [\"-\", \"-\", \"S\", \"-\", \"T\", \"-\", \"-\", \"-\", \"-\", \"-\"],   # - - S - T - - - - -\n",
    "    [\"-\", \"-\", \"-\", \"-\", \"T\", \"-\", \"-\", \"S\", \"-\", \"S\"],   # - - - - T - - S - S\n",
    "    [\"-\", \"S\", \"-\", \"-\", \"-\", \"-\", \"-\", \"-\", \"-\", \"-\", ]   # - S - - - - - - - -\n",
    "]\n",
    "\n",
    "showBoardColored(tested_board)"
   ]
  },
  {
   "cell_type": "markdown",
   "metadata": {},
   "source": [
    "### 10. Comment sauvegarder une grille dans un fichier ? Faire une fonction."
   ]
  },
  {
   "cell_type": "code",
   "execution_count": 63,
   "metadata": {},
   "outputs": [],
   "source": [
    "def createSaveState(board: list) -> str:\n",
    "  save_str = \"\"\n",
    "  for line in board:\n",
    "    for column in line:\n",
    "      save_str += column + \"|\"\n",
    "    save_str += \"\\n\"\n",
    "  return save_str\n",
    "\n",
    "def saveState(board: list) -> None:\n",
    "  with open(f\"save-{str(datetime.now())[:10]}.txt\", \"wt\", encoding=\"utf-8\") as fout:\n",
    "    fout.write(createSaveState(board))\n",
    "\n",
    "saveState(test_board)"
   ]
  },
  {
   "cell_type": "markdown",
   "metadata": {},
   "source": [
    "### 11. Comment lire un fichier de sauvegarde ? Faire une fonction."
   ]
  },
  {
   "cell_type": "code",
   "execution_count": 64,
   "metadata": {},
   "outputs": [
    {
     "name": "stdout",
     "output_type": "stream",
     "text": [
      " - C C C - - - T T - \n",
      " - - - - - - - - - - \n",
      " C - - - - - - - - - \n",
      " C - P P P P - - - T \n",
      " C - - - - - - - - T \n",
      " - - S - T - - - - - \n",
      " - - - - T - - S - S \n",
      " - S - - - - - - - - \n"
     ]
    }
   ],
   "source": [
    "\n",
    "def loadState(save_file: str) -> list:\n",
    "  board = []\n",
    "  with open(save_file, \"rt\", encoding=\"utf-8\") as fin:\n",
    "    lines = fin.read().strip().split(\"\\n\")\n",
    "    for line in lines:\n",
    "      cell = line.strip().split(\"|\")\n",
    "      temp_line = []\n",
    "      for data in cell:\n",
    "        if data != \"\":\n",
    "          temp_line.append(data)\n",
    "      board.append(temp_line)\n",
    "\n",
    "  return board\n",
    "\n",
    "\n",
    "new_state = loadState(\"save-2022-10-18.txt\")\n",
    "showBoard(new_state)\n"
   ]
  },
  {
   "cell_type": "markdown",
   "metadata": {},
   "source": [
    "## 3. Mise en place des bateaux :\n",
    "\n",
    "Dans cette partie, on désire pouvoir placer les bateaux sur une grille vide.\n",
    "\n"
   ]
  },
  {
   "cell_type": "markdown",
   "metadata": {},
   "source": [
    "### 1. Créer une fonction qui fabrique une grille vide."
   ]
  },
  {
   "cell_type": "code",
   "execution_count": 65,
   "metadata": {},
   "outputs": [],
   "source": [
    "def createBoard(width: int, height: int) -> list:\n",
    "  \"\"\"A function used to create the board of any board game\n",
    "\n",
    "    Arguments\n",
    "    ---\n",
    "      `width`:\n",
    "        The width of the board, can only be an int\n",
    "      `height`:\n",
    "        The height of the board, can only be an int\n",
    "\n",
    "    Output: a list with the len() of height and each cell has a len() of width\n",
    "  \"\"\"\n",
    "  return [[[\"-\"] for x in range(0, width)] for y in range(0, height)]\n",
    "\n",
    "def cleanBoard(board: list) -> list:\n",
    "  \"\"\"A function used to clean a board after using it or iterating with it\"\"\"\n",
    "\n",
    "  for y in range(0, len(board)):\n",
    "    for x in range(0, len(board[y])):\n",
    "      if board[y][x] != \"-\":\n",
    "        board[y][x] == \"-\"\n"
   ]
  },
  {
   "cell_type": "markdown",
   "metadata": {},
   "source": [
    "### 2. Comment placer le PORTE_AVION (noté P) de taille 4, en position B2 orienté en vertical pour obtenir la grille de la figure 3 ?\n",
    "\n",
    "![fig3-4](./src/fig3-4.png)"
   ]
  },
  {
   "cell_type": "code",
   "execution_count": 66,
   "metadata": {},
   "outputs": [
    {
     "name": "stdout",
     "output_type": "stream",
     "text": [
      "  A B C D E F G H I J \n",
      "1 - - - - - - - - - - \n",
      "2 - P - - - - - - - - \n",
      "3 - P - - - - - - - - \n",
      "4 - P - - - - - - - - \n",
      "5 - P - - - - - - - - \n",
      "6 - - - - - - - - - - \n",
      "7 - - - - - - - - - - \n",
      "8 - - - - - - - - - - \n"
     ]
    }
   ],
   "source": [
    "ship_data = {\n",
    "    \"carrier\": (4, \"P\"),\n",
    "    \"cruisers\": (3, \"C\"),\n",
    "    \"torpedo-boat\": (2, \"T\"),\n",
    "    \"submarine\": (1, \"S\")\n",
    "}\n",
    "\n",
    "def placeShip(ship_name, start_cell, axis, board):\n",
    "  global ship_data\n",
    "\n",
    "  cases_to_place, letter_to_place = ship_data[ship_name]\n",
    "  start_cell_y, start_cell_x = getCoordonnees(start_cell)\n",
    "  if axis.lower() == \"v\":\n",
    "    if start_cell_y+cases_to_place < len(board):\n",
    "      for i in range(0, cases_to_place):\n",
    "        board[start_cell_y+i][start_cell_x] = letter_to_place\n",
    "    else:\n",
    "      return IndexError(\"The cell is too much near the border to be placed vertically\")\n",
    "  elif axis.lower() == \"h\":\n",
    "    if start_cell_x+cases_to_place < len(board[start_cell_y]):\n",
    "      for i in range(0, cases_to_place):\n",
    "        board[start_cell_y][start_cell_x+i] = letter_to_place\n",
    "    else:\n",
    "      return IndexError(\"The cell is too much near the border to be placed horizontally\")\n",
    "  else:\n",
    "    return KeyError(\"We can't find any other axis than v or h\")\n",
    "\n",
    "my_board = createBoard(10, 8)\n",
    "placeShip(\"carrier\", \"B2\", \"v\", my_board)\n",
    "showBoard(my_board, True)"
   ]
  },
  {
   "cell_type": "markdown",
   "metadata": {},
   "source": [
    "### 3. Que faut-il changer pour obtenir la figure 4, avec le bateau en horizontal ?"
   ]
  },
  {
   "cell_type": "code",
   "execution_count": 67,
   "metadata": {},
   "outputs": [
    {
     "name": "stdout",
     "output_type": "stream",
     "text": [
      "  A B C D E F G H I J \n",
      "1 - - - - - - - - - - \n",
      "2 - P P P P - - - - - \n",
      "3 - - - - - - - - - - \n",
      "4 - - - - - - - - - - \n",
      "5 - - - - - - - - - - \n",
      "6 - - - - - - - - - - \n",
      "7 - - - - - - - - - - \n",
      "8 - - - - - - - - - - \n"
     ]
    }
   ],
   "source": [
    "board2 = createBoard(10, 8)\n",
    "placeShip(\"carrier\", \"B2\", \"h\", board2)\n",
    "showBoard(board2, True)"
   ]
  },
  {
   "cell_type": "markdown",
   "metadata": {},
   "source": [
    "### 4. Créer alors 2 fonctions (placeBateauHorizontal() et placeBateauVertical()) pour placer des bateaux sur une grille à partir de la position souhaitée, de la lettre représentant le bateau et de sa taille."
   ]
  },
  {
   "cell_type": "code",
   "execution_count": 68,
   "metadata": {},
   "outputs": [],
   "source": [
    "def placeBateauHorizontal(board, ship_name, start_cell):\n",
    "  placeShip(ship_name, start_cell, \"h\", board)\n",
    "\n",
    "def placeBateauVertical(board, ship_name, start_cell):\n",
    "  placeShip(ship_name, start_cell, \"v\", board)"
   ]
  },
  {
   "cell_type": "markdown",
   "metadata": {},
   "source": [
    "### 5. Si au lieu de placer le PORTE_AVION en B2, on choisit la case H6. Pourquoi ne peut-on pas placer le bateau en horizontal ou en vertical ? Quel test faut-il faire ?\n",
    "Créer alors les fonctions verifHorizontal(grille,pos,taille) et verifVertical(grille,pos,taille)."
   ]
  },
  {
   "cell_type": "code",
   "execution_count": 69,
   "metadata": {},
   "outputs": [
    {
     "data": {
      "text/plain": [
       "IndexError('The cell is too much near the border to be placed vertically')"
      ]
     },
     "execution_count": 69,
     "metadata": {},
     "output_type": "execute_result"
    }
   ],
   "source": [
    "t_board = createBoard(10, 8)\n",
    "placeShip(\"carrier\", \"H6\", \"v\", t_board)"
   ]
  },
  {
   "cell_type": "code",
   "execution_count": 70,
   "metadata": {},
   "outputs": [
    {
     "name": "stdout",
     "output_type": "stream",
     "text": [
      "True <-- Should be True\n",
      "False <-- Should be False\n"
     ]
    }
   ],
   "source": [
    "def verifHorizontal(grille, pos, taille):\n",
    "  \"\"\"Une fonction pour vérifier si on peut placer un bateau horizontallement.\n",
    "\n",
    "  Args\n",
    "  ---\n",
    "    `grille`, list: La grille de jeu\n",
    "    `pos`, tuple | list: Un tuple/Une liste de deux éléments ayant les coords x et y de la cellule\n",
    "    `taille`, int: Un entier qui donne la taille du bateau à placer\n",
    "\n",
    "  Returns\n",
    "  ---\n",
    "    Boolean: True if it's ok, False otherwise\n",
    "  \"\"\"\n",
    "\n",
    "  if pos[1]+taille < len(grille[pos[0]]):\n",
    "    return True\n",
    "  return False\n",
    "\n",
    "def verifVertical(grille, pos, taille):\n",
    "  \"\"\"Une fonction pour vérifier si on peut placer un bateau horizontallement.\n",
    "\n",
    "  Args\n",
    "  ---\n",
    "    `grille`, list: La grille de jeu\n",
    "    `pos`, tuple | list: Un tuple/Une liste de deux éléments ayant les coords x et y de la cellule\n",
    "    `taille`, int: Un entier qui donne la taille du bateau à placer\n",
    "\n",
    "  Returns\n",
    "  ---\n",
    "    Boolean: True if it's ok, False otherwise\n",
    "  \"\"\"\n",
    "\n",
    "  if pos[0]+taille < len(grille):\n",
    "    return True\n",
    "  return False\n",
    "\n",
    "empty_board = createBoard(10, 8)\n",
    "print(verifHorizontal(empty_board, getCoordonnees(\"F6\"), ship_data[\"carrier\"][0]), \"<-- Should be True\")\n",
    "print(verifVertical(empty_board, getCoordonnees(\"H6\"), ship_data[\"carrier\"][0]), \"<-- Should be False\")"
   ]
  },
  {
   "cell_type": "markdown",
   "metadata": {},
   "source": [
    "### 6. Lorsque l’on doit placer les autres bateaux, il faut aussi vérifier que les bateaux ne se superposent pas et qu’ils ne se touchent pas également (Voir figures 1 et 2). Par exemple les grilles des figures 5 et 6 ci-dessous sont incorrectes :\n",
    "\n",
    "![fig5-6](./src/fig5-6.png)"
   ]
  },
  {
   "cell_type": "code",
   "execution_count": 128,
   "metadata": {},
   "outputs": [
    {
     "name": "stdout",
     "output_type": "stream",
     "text": [
      "  A B C D E F G H I J \n",
      "1 - - - - - - - - - - \n",
      "2 - P P P P - - - - - \n",
      "3 - - - - - - - - - - \n",
      "4 - - - - - - - - - - \n",
      "5 - - - - - - - - - - \n",
      "6 - - - - - - - - - - \n",
      "7 - - - - - - - - - - \n",
      "8 - - - - - - - - - - \n",
      "VérifBoard: True\n",
      "DATA: board: [[['-'], ['-'], ['-'], ['-'], ['-'], ['-'], ['-'], ['-'], ['-'], ['-']], [['-'], 'P', 'P', 'P', 'P', ['-'], ['-'], ['-'], ['-'], ['-']], [['-'], ['-'], ['-'], ['-'], ['-'], ['-'], ['-'], ['-'], ['-'], ['-']], [['-'], ['-'], ['-'], ['-'], ['-'], ['-'], ['-'], ['-'], ['-'], ['-']], [['-'], ['-'], ['-'], ['-'], ['-'], ['-'], ['-'], ['-'], ['-'], ['-']], [['-'], ['-'], ['-'], ['-'], ['-'], ['-'], ['-'], ['-'], ['-'], ['-']], [['-'], ['-'], ['-'], ['-'], ['-'], ['-'], ['-'], ['-'], ['-'], ['-']], [['-'], ['-'], ['-'], ['-'], ['-'], ['-'], ['-'], ['-'], ['-'], ['-']]], ship: cruisers, start_cell: (2, 5), axis: v, shipd: (3, 'C'), (ship_over, ship_touchy): (False, False)\n",
      "['-']\n",
      "['-']\n",
      "['-']\n",
      "I: 0 ['-'] True\n",
      "I: 1 ['-'] True\n",
      "I: 2 ['-'] True\n",
      "I: 0 ['-'] True\n",
      "I: 1 ['-'] True\n",
      "I: 2 ['-'] True\n",
      "I: 0 ['-'] True\n",
      "I: 1 ['-'] True\n",
      "I: 2 ['-'] True\n",
      "I: 0 ['-'] True\n",
      "I: 1 ['-'] True\n",
      "I: 2 ['-'] True\n",
      "Ship_Over: False, Ship_Touchy: False\n",
      "VérifBoard: True\n",
      " - - - - - - - - - - \n",
      " - P P P P - - - - - \n",
      " - - - - - C - - - - \n",
      " - - - - - C - - - - \n",
      " - - - - - C - - - - \n",
      " - - - - - - - - - - \n",
      " - - - - - - - - - - \n",
      " - - - - - - - - - - \n"
     ]
    }
   ],
   "source": [
    "def verifOtherShips(board, ship, start_cell, axis, debug=False):\n",
    "  global ship_data\n",
    "  test_board = board.copy() ### We copy the object as we're iterating with it, in order to not break the supposedly good structure\n",
    "  shipd = ship_data[ship]\n",
    "\n",
    "  ship_over = False\n",
    "  ship_touchy = False\n",
    "\n",
    "  if debug:\n",
    "    print(f\"DATA: board: {board}, ship: {ship}, start_cell: {start_cell}, axis: {axis}, shipd: {shipd}, (ship_over, ship_touchy): ({ship_over}, {ship_touchy})\")\n",
    "\n",
    "  ### The test of overlapping\n",
    "  ### We suppose this test came as the last and as such, we're not verifying once again the size\n",
    "  for i in range(0, shipd[0]):\n",
    "    if axis == \"v\":\n",
    "      if board[start_cell[0]+i][start_cell[1]][0] == \"-\":\n",
    "        if debug:\n",
    "          print(board[start_cell[0]+i][start_cell[1]])\n",
    "        continue\n",
    "      else:\n",
    "        ship_over = True\n",
    "        break\n",
    "    elif axis == \"h\":\n",
    "      if board[start_cell[0]][start_cell[1]+i][0] != \"-\":\n",
    "        ship_over = True\n",
    "        break\n",
    "\n",
    "  ### The test of no-touch area\n",
    "  ###\n",
    "  ###   D E F         |\n",
    "  ### 0 - - -      ---|----- x\n",
    "  ### 1 - C -         |\n",
    "  ### 2 - C -         |\n",
    "  ### 3 - C -         |\n",
    "  ### 4 - - -         y\n",
    "  ###\n",
    "  ### Start: E1, End: E3\n",
    "  ### 1st wave (D1->D3): Start.y + Start.x-1 -> End.y + End.x-1\n",
    "  ### 2nd wave (F1->F3): Start.y + Start.x+1 -> End.y + End.x+1\n",
    "  ### 3rd wave (D0->F0): Start.y-1 + Start.x-1 -> End.y-1 + End.x+1\n",
    "  ### 4th wave (D4->F4): Start.y+1 + Start.x-1 -> End.y+1 + End.x+1\n",
    "  ###//////////////////////////////////////\n",
    "  if axis == \"v\":\n",
    "    ### Y-1\n",
    "    for i in range(0, shipd[0]):\n",
    "      if debug:\n",
    "        print(\"I:\", i, board[start_cell[0]+i-1][start_cell[1]], True if board[start_cell[0]-1+i][start_cell[1]][0] == \"-\" else False)\n",
    "      if board[start_cell[0]-1+i][start_cell[1]][0] != \"-\":\n",
    "        ship_touchy = True\n",
    "        break\n",
    "\n",
    "    ### Y+1\n",
    "    for i in range(0, shipd[0]):\n",
    "      if debug:\n",
    "        print(\"I:\", i, board[start_cell[0]+1+i][start_cell[1]], True if board[start_cell[0]+1+i][start_cell[1]][0] == \"-\" else False)\n",
    "      if board[start_cell[0]+1+i][start_cell[1]][0] != \"-\":\n",
    "        ship_touchy = True\n",
    "        break\n",
    "\n",
    "    ### X-1\n",
    "    for i in range(0, 3):\n",
    "      if debug:\n",
    "        print(\"I:\", i, board[start_cell[0]+i][start_cell[1]-1], True if board[start_cell[0]+i][start_cell[1]-1][0] == \"-\" else False)\n",
    "      if board[start_cell[0]][start_cell[1]-1+i][0] != \"-\":\n",
    "        ship_touchy = True\n",
    "        break\n",
    "\n",
    "    ### X+1\n",
    "    for i in range(0, 3):\n",
    "      if debug:\n",
    "        print(\"I:\", i, board[start_cell[0]+i][start_cell[1]+1], True if board[start_cell[0]+i][start_cell[1]+1][0] == \"-\" else False)\n",
    "      if board[start_cell[0]][start_cell[1]+1+i][0] != \"-\":\n",
    "        ship_touchy = True\n",
    "        break\n",
    "  elif axis == \"h\":\n",
    "    for i in range(0, 3):\n",
    "      if debug:\n",
    "        print(\"I:\", i, board[start_cell[0]+i-1][start_cell[1]], True if board[start_cell[0]-1+i][start_cell[1]][0] == \"-\" else False)\n",
    "      if board[start_cell[0]-1+i][start_cell[1]][0] != \"-\":\n",
    "        ship_touchy = True\n",
    "        break\n",
    "\n",
    "    for i in range(0, 3):\n",
    "      if debug:\n",
    "        print(\"I:\", i, board[start_cell[0]+1+i][start_cell[1]], True if board[start_cell[0]+1+i][start_cell[1]][0] == \"-\" else False)\n",
    "      if board[start_cell[0]+1+i][start_cell[1]][0] != \"-\":\n",
    "        ship_touchy = True\n",
    "        break\n",
    "\n",
    "    for i in range(0, shipd[0]):\n",
    "      if debug:\n",
    "        print(\"I:\", i, board[start_cell[0]+i][start_cell[1]-1], True if board[start_cell[0]+i][start_cell[1]-1][0] == \"-\" else False)\n",
    "      if board[start_cell[0]+i][start_cell[1]-1][0] != \"-\":\n",
    "        ship_touchy = True\n",
    "        break\n",
    "\n",
    "    for i in range(0, shipd[0]):\n",
    "      if debug:\n",
    "        print(\"I:\", i, board[start_cell[0]+i][start_cell[1]+1], True if board[start_cell[0]+i][start_cell[1]+1][0] == \"-\" else False)\n",
    "      if board[start_cell[0]+i][start_cell[1]+1][0] != \"-\":\n",
    "        ship_touchy = True\n",
    "        break\n",
    "\n",
    "\n",
    "\n",
    "\n",
    "  if debug:\n",
    "    print(f\"Ship_Over: {ship_over}, Ship_Touchy: {ship_touchy}\")\n",
    "  if ship_over: # If we're overlapping, ofc we're touching the ships\n",
    "    return False\n",
    "\n",
    "  if ship_touchy:\n",
    "    return False\n",
    "\n",
    "  return True\n",
    "\n",
    "my_board = createBoard(10, 8)\n",
    "placeShip(\"carrier\", \"B2\", \"h\", my_board)\n",
    "showBoard(my_board, True)\n",
    "print(\"VérifBoard:\", verifOtherShips(my_board, \"submarine\", getCoordonnees(\"F5\"), \"v\"))\n",
    "print(\"VérifBoard:\", verifOtherShips(my_board, \"cruisers\", getCoordonnees(\"F3\"), \"v\", True))\n",
    "placeShip(\"cruisers\", \"F3\", \"v\", my_board)\n",
    "showBoard(my_board)"
   ]
  },
  {
   "cell_type": "code",
   "execution_count": 124,
   "metadata": {},
   "outputs": [
    {
     "name": "stdout",
     "output_type": "stream",
     "text": [
      "  A B C D E F G H I J \n",
      "1 - - - - - - - - - - \n",
      "2 - P P P P - - - - - \n",
      "3 - - - - - - - - - - \n",
      "4 - - - - - - - - - - \n",
      "5 - - - - - - - - - - \n",
      "6 - - - - - - - - - - \n",
      "7 - - - - - - - - - - \n",
      "8 - - - - - - - - - - \n",
      "VérifBoard: True\n",
      "  A B C D E F G H I J \n",
      "1 - - - - - - - - - - \n",
      "2 - P P P P - - - - - \n",
      "3 - - - - - C - - - - \n",
      "4 - - - - - C - - - - \n",
      "5 - - - - - C - - - - \n",
      "6 - - - - - - - - - - \n",
      "7 - - - - - - - - - - \n",
      "8 - - - - - - - - - - \n"
     ]
    }
   ],
   "source": [
    "def placeShip(ship_name, start_cell, axis, board):\n",
    "  global ship_data\n",
    "\n",
    "  cases_to_place, letter_to_place = ship_data[ship_name]\n",
    "  start_cell_y, start_cell_x = getCoordonnees(start_cell)\n",
    "  if axis.lower() == \"v\":\n",
    "    if verifVertical(board, (start_cell_y, start_cell_x), cases_to_place):\n",
    "      if verifOtherShips(board, ship_name, (start_cell_y, start_cell_x), axis):\n",
    "        for i in range(0, cases_to_place):\n",
    "          board[start_cell_y+i][start_cell_x] = letter_to_place\n",
    "      else:\n",
    "        return KeyError(\"Another ship is in proximity or over one of the cells used\")\n",
    "    else:\n",
    "      return IndexError(\"The cell is too much near the border to be placed vertically\")\n",
    "  elif axis.lower() == \"h\":\n",
    "    if start_cell_x+cases_to_place < len(board[start_cell_y]):\n",
    "      for i in range(0, cases_to_place):\n",
    "        board[start_cell_y][start_cell_x+i] = letter_to_place\n",
    "    else:\n",
    "      return IndexError(\"The cell is too much near the border to be placed horizontally\")\n",
    "  else:\n",
    "    return KeyError(\"We can't find any other axis than v or h\")\n",
    "\n",
    "my_board = createBoard(10, 8)\n",
    "placeShip(\"carrier\", \"B2\", \"h\", my_board)\n",
    "showBoard(my_board, True)\n",
    "print(\"VérifBoard:\", verifOtherShips(my_board, \"cruisers\", getCoordonnees(\"F3\"), \"v\"))\n",
    "placeShip(\"cruisers\", \"F3\", \"v\", my_board)\n",
    "showBoard(my_board, True)"
   ]
  },
  {
   "cell_type": "markdown",
   "metadata": {},
   "source": [
    "### 7. Faire une boucle pour placer tous les bateaux sur la grille en demandant à chaque fois à l’utilisateur la position et l’orientation."
   ]
  },
  {
   "cell_type": "markdown",
   "metadata": {},
   "source": [
    "### 8. Comment générer une grille avec un placement aléatoire (Voir module random et la fonction randint()) ?"
   ]
  },
  {
   "cell_type": "markdown",
   "metadata": {},
   "source": [
    "## 4. Programmation réseau :\n",
    "\n",
    "Dans cette partie, on désire pouvoir jouer à distance entre 2 machines. On vous fourni un exemple de client/serveur\n",
    "réalisant un échange de textes entre 2 programmes."
   ]
  },
  {
   "cell_type": "markdown",
   "metadata": {},
   "source": [
    "### 1. Tester les fichiers fournis : lancer en premier bnServer-base.py dans une console et bnClientbase.py dans une autre.\n",
    "\n",
    "Modifier les message envoyés entre le client et le serveur."
   ]
  },
  {
   "cell_type": "markdown",
   "metadata": {},
   "source": [
    "### 2. Adapter alors les 2 programmes pour réaliser une connexion distante entre 2 joueurs de bataille navale.\n",
    "\n",
    "On pourra partir avec une grille sauvegardée en fichier des 2 cotés ou bien utiliser le système aléatoire de la question 3.8. Pour simplifier un peu le système, on ne fera uniquement qu’un 1 seul coup par joueur.\\\n",
    "Le client jouera donc en premier en envoyant une position B3 par exemple et le serveur devra répondre en fonction de sa grille (TOUCHE ou bien DANS L’EAU). Ensuite ce sera au tour du serveur d’envoyer une position, etc... A chaque coup on devra afficher la grille personnelle et la grille de tir."
   ]
  },
  {
   "cell_type": "markdown",
   "metadata": {},
   "source": [
    "### 3. Finaliser le jeu pour que quand un joueur touche un bateau, il puisse rejouer à nouveau."
   ]
  }
 ],
 "metadata": {
  "kernelspec": {
   "display_name": "Python 3.10.7 64-bit",
   "language": "python",
   "name": "python3"
  },
  "language_info": {
   "codemirror_mode": {
    "name": "ipython",
    "version": 3
   },
   "file_extension": ".py",
   "mimetype": "text/x-python",
   "name": "python",
   "nbconvert_exporter": "python",
   "pygments_lexer": "ipython3",
   "version": "3.10.7"
  },
  "orig_nbformat": 4,
  "vscode": {
   "interpreter": {
    "hash": "369f2c481f4da34e4445cda3fffd2e751bd1c4d706f27375911949ba6bb62e1c"
   }
  }
 },
 "nbformat": 4,
 "nbformat_minor": 2
}
