{
 "cells": [
  {
   "cell_type": "markdown",
   "metadata": {},
   "source": [
    "# R107-TP4 Alexis Opolka"
   ]
  },
  {
   "cell_type": "markdown",
   "metadata": {},
   "source": [
    "## Partie 1: révision flash"
   ]
  },
  {
   "cell_type": "markdown",
   "metadata": {},
   "source": [
    "### 1- Soient les deux variables suivantes :\n",
    "\n",
    "a=123\n",
    "b='123'\n",
    "\n",
    "Quelle est la différence entre ces deux variables ?"
   ]
  },
  {
   "cell_type": "code",
   "execution_count": 13,
   "metadata": {},
   "outputs": [
    {
     "name": "stdout",
     "output_type": "stream",
     "text": [
      "Le type de a: <class 'int'>, Le type de b: <class 'str'>\n"
     ]
    }
   ],
   "source": [
    "a=123\n",
    "b=\"123\"\n",
    "\n",
    "print(f\"Le type de a: {type(a)}, Le type de b: {type(b)}\")"
   ]
  },
  {
   "cell_type": "markdown",
   "metadata": {},
   "source": [
    "#### Les variables suivantes sont-elles correctes ?\n",
    "\n",
    "c=a+1\n",
    "d=b+1"
   ]
  },
  {
   "cell_type": "markdown",
   "metadata": {},
   "source": [
    "c va fonctionner car on va ajouter un `int` avec un `int` alors que d va avoir une erreur de concaténation entre un `int` et un `str`"
   ]
  },
  {
   "cell_type": "markdown",
   "metadata": {},
   "source": [
    "### 2 - soit la liste suivante L=[1,2,3,4,5,6,7,8,9,10]"
   ]
  },
  {
   "cell_type": "code",
   "execution_count": 14,
   "metadata": {},
   "outputs": [
    {
     "name": "stdout",
     "output_type": "stream",
     "text": [
      "La valeur de L[5] est: 6\n"
     ]
    }
   ],
   "source": [
    "L=[1,2,3,4,5,6,7,8,9,10]\n",
    "\n",
    "print(\"La valeur de L[5] est:\", L[5])"
   ]
  },
  {
   "cell_type": "code",
   "execution_count": 15,
   "metadata": {},
   "outputs": [
    {
     "name": "stdout",
     "output_type": "stream",
     "text": [
      "Les éléments de L sont: 1 2 3 4 5 6 7 8 9 10 "
     ]
    }
   ],
   "source": [
    "print(\"Les éléments de L sont:\", end=\" \")\n",
    "for elem in L:\n",
    "  print(elem, end=\" \")"
   ]
  },
  {
   "cell_type": "markdown",
   "metadata": {},
   "source": [
    "### 3- Ecrire un programme en Python qui utilise une boucle for pour afficher les 5 derniers éléments de la liste L"
   ]
  },
  {
   "cell_type": "code",
   "execution_count": 16,
   "metadata": {},
   "outputs": [
    {
     "name": "stdout",
     "output_type": "stream",
     "text": [
      "Les 5 derniers éléments de L sont: 5 6 7 8 9 10 "
     ]
    }
   ],
   "source": [
    "print(\"Les 5 derniers éléments de L sont:\", end=\" \")\n",
    "for i in range(len(L)-6, len(L)):\n",
    "  print(L[i], end=\" \")\n"
   ]
  },
  {
   "cell_type": "markdown",
   "metadata": {},
   "source": [
    "### 4- Ecrire un programme qui utilise une boucle while pour afficher les éléments de la liste L depuis le début et qui s’arrête lorsqu’elle trouve une valeur égale à 7."
   ]
  },
  {
   "cell_type": "code",
   "execution_count": 17,
   "metadata": {},
   "outputs": [
    {
     "name": "stdout",
     "output_type": "stream",
     "text": [
      "Iteration n°6, valeur: 7\n"
     ]
    }
   ],
   "source": [
    "x = 0\n",
    "while L[x] != 7:\n",
    "  x += 1\n",
    "print(f\"Iteration n°{x}, valeur: {L[x]}\")"
   ]
  },
  {
   "cell_type": "markdown",
   "metadata": {},
   "source": [
    "### 5- utiliser l’instruction conditionnelle if pour afficher pour chaque valeur de la liste L si elle est paire ou impaire"
   ]
  },
  {
   "cell_type": "code",
   "execution_count": 18,
   "metadata": {},
   "outputs": [
    {
     "name": "stdout",
     "output_type": "stream",
     "text": [
      "1 is odd/impair, 2 is even/pair, 3 is odd/impair, 4 is even/pair, 5 is odd/impair, 6 is even/pair, 7 is odd/impair, 8 is even/pair, 9 is odd/impair, 10 is even/pair, "
     ]
    }
   ],
   "source": [
    "for elem in L:\n",
    "  if elem%2 == 0:\n",
    "    print(f\"{elem} is even/pair,\", end=\" \")\n",
    "  else:\n",
    "    print(f\"{elem} is odd/impair,\", end=\" \")"
   ]
  },
  {
   "cell_type": "markdown",
   "metadata": {},
   "source": [
    "## Partie 2: les fichiers"
   ]
  },
  {
   "cell_type": "markdown",
   "metadata": {},
   "source": [
    "### 1 - Ecrire un programme qui crée un fichier nommé source.txt et qui contient le message suivant :\n",
    "\n",
    "« SUPER ! Je viens de créer mon premier fichier ! »"
   ]
  },
  {
   "cell_type": "code",
   "execution_count": 19,
   "metadata": {},
   "outputs": [
    {
     "name": "stdout",
     "output_type": "stream",
     "text": [
      "Contenu du fichier écrit: « SUPER ! Je viens de créer mon premier fichier ! »\n"
     ]
    }
   ],
   "source": [
    "with open(\"out/source.txt\", \"wt\", encoding=\"utf-8\") as fout:\n",
    "  fout.write(f\"« SUPER ! Je viens de créer mon premier fichier ! »\")\n",
    "\n",
    "with open(\"out/source.txt\", \"rt\", encoding=\"utf-8\") as fin:\n",
    "  print(\"Contenu du fichier écrit:\", fin.read())"
   ]
  },
  {
   "cell_type": "markdown",
   "metadata": {},
   "source": [
    "### 2 - Ecrire un programme qui recopie le contenu du fichier source.txt dans le fichier destination.txt\n"
   ]
  },
  {
   "cell_type": "code",
   "execution_count": 20,
   "metadata": {},
   "outputs": [
    {
     "name": "stdout",
     "output_type": "stream",
     "text": [
      "« SUPER ! Je viens de créer mon premier fichier ! »\n"
     ]
    }
   ],
   "source": [
    "with open(\"out/source.txt\", \"rt\", encoding=\"utf-8\") as fin:\n",
    "  with open(\"out/destination.txt\", \"wt\", encoding=\"utf-8\") as fout:\n",
    "    fout.write(fin.read())\n",
    "\n",
    "with open(\"out/destination.txt\", \"rt\", encoding=\"utf-8\") as fin:\n",
    "  print(fin.read())"
   ]
  },
  {
   "cell_type": "markdown",
   "metadata": {},
   "source": [
    "### 3 - Expérimentez l’écriture et la lecture de plusieurs lignes."
   ]
  },
  {
   "cell_type": "code",
   "execution_count": 21,
   "metadata": {},
   "outputs": [
    {
     "name": "stdout",
     "output_type": "stream",
     "text": [
      "Line n°1: Hello World\n",
      "\n",
      "Line n°2: Y'all can't catch me, i'm supa doopa fast\n",
      "\n",
      "Line n°3: Oh shit! The cops are here!\n",
      "\n"
     ]
    }
   ],
   "source": [
    "with open(\"out/source-lines.txt\", \"wt\", encoding=\"utf-8\") as fout:\n",
    "  fout.write(\"Hello World\\n\")\n",
    "  fout.write(\"Y'all can't catch me, i'm supa doopa fast\\n\")\n",
    "  fout.write(\"Oh shit! The cops are here!\\n\")\n",
    "\n",
    "with open(\"out/source-lines.txt\", \"rt\", encoding=\"utf-8\") as fin:\n",
    "  x = 1\n",
    "  for line in fin.readlines():\n",
    "    print(f\"Line n°{x}: {line}\")\n",
    "    x += 1"
   ]
  },
  {
   "cell_type": "markdown",
   "metadata": {},
   "source": [
    "## Partie 3: Encore une dernière chose: le code ASCII"
   ]
  },
  {
   "cell_type": "markdown",
   "metadata": {},
   "source": [
    "```py\n",
    "x='A'\n",
    "y=ord(x)\n",
    "print(y)\n",
    "```\n",
    "Le code ci-dessus affiche:"
   ]
  },
  {
   "cell_type": "code",
   "execution_count": 22,
   "metadata": {},
   "outputs": [
    {
     "name": "stdout",
     "output_type": "stream",
     "text": [
      "65\n"
     ]
    }
   ],
   "source": [
    "x='A'\n",
    "y=ord(x)\n",
    "print(y)\n"
   ]
  },
  {
   "cell_type": "markdown",
   "metadata": {},
   "source": [
    "```py\n",
    "x=55\n",
    "y=chr(x)\n",
    "print(y)\n",
    "```\n",
    "Le code ci-dessus affiche:"
   ]
  },
  {
   "cell_type": "code",
   "execution_count": 23,
   "metadata": {},
   "outputs": [
    {
     "name": "stdout",
     "output_type": "stream",
     "text": [
      "7\n"
     ]
    }
   ],
   "source": [
    "x=55\n",
    "y=chr(x)\n",
    "print(y)"
   ]
  },
  {
   "cell_type": "markdown",
   "metadata": {},
   "source": [
    "### 1 - Expérimentez les conversions entre caractères et équivalent ASCII."
   ]
  },
  {
   "cell_type": "code",
   "execution_count": 24,
   "metadata": {},
   "outputs": [
    {
     "name": "stdout",
     "output_type": "stream",
     "text": [
      "Hello: H -> 72 e -> 101 l -> 108 l -> 108 o -> 111 \n",
      "World: W -> 87 o -> 111 r -> 114 l -> 108 d -> 100 \n",
      "Y'all: Y -> 89 ' -> 39 a -> 97 l -> 108 l -> 108 \n",
      "can't: c -> 99 a -> 97 n -> 110 ' -> 39 t -> 116 \n",
      "catch: c -> 99 a -> 97 t -> 116 c -> 99 h -> 104 \n",
      "me,: m -> 109 e -> 101 , -> 44 \n",
      "i'm: i -> 105 ' -> 39 m -> 109 \n",
      "supa: s -> 115 u -> 117 p -> 112 a -> 97 \n",
      "doopa: d -> 100 o -> 111 o -> 111 p -> 112 a -> 97 \n",
      "fast: f -> 102 a -> 97 s -> 115 t -> 116 \n",
      "Oh: O -> 79 h -> 104 \n",
      "shit!: s -> 115 h -> 104 i -> 105 t -> 116 ! -> 33 \n",
      "The: T -> 84 h -> 104 e -> 101 \n",
      "cops: c -> 99 o -> 111 p -> 112 s -> 115 \n",
      "are: a -> 97 r -> 114 e -> 101 \n",
      "here!: h -> 104 e -> 101 r -> 114 e -> 101 ! -> 33 \n"
     ]
    }
   ],
   "source": [
    "with open(\"out/source-lines.txt\", \"rt\", encoding=\"utf-8\") as fin:\n",
    "  for line in fin.readlines():\n",
    "    for word in line.split(\" \"):\n",
    "      l = [ord(char) for char in word]\n",
    "      print(f\"{word.strip()}: {''.join([letter+' -> '+str(ord(letter))+' ' for letter in word if ord(letter) != 10])}\")"
   ]
  },
  {
   "cell_type": "markdown",
   "metadata": {},
   "source": [
    "## Partie 4 : Cryptons, cryptons"
   ]
  },
  {
   "cell_type": "markdown",
   "metadata": {},
   "source": [
    "### 1- La façon la plus simple (mais qui n’est pas très efficace) de coder un texte est de remplacer chaque caractère par un autre caractère. Par exemple, si le procédé de cryptage consiste à augmenter le code ASCII de chaque caractère d’une unité, le texte ABCDEF deviendra BCDEFG.\n",
    "\n",
    "En effet :\n",
    "\n",
    "- ABCDEF correspond aux codes ASCII 65 66 67 68 69 70\n",
    "- BCDEFG correspond aux codes ASCII 66 67 68 69 70 71\n",
    "\n",
    "Ecrire un programme permettant de lire le contenu du fichier **source.txt**, de le coder comme indiqué\n",
    "ci-dessus et de sauvegarder le texte résultant dans le fichier **message_code.txt**"
   ]
  },
  {
   "cell_type": "code",
   "execution_count": 30,
   "metadata": {},
   "outputs": [
    {
     "name": "stdout",
     "output_type": "stream",
     "text": [
      "Message en clair: « SUPER ! Je viens de créer mon premier fichier ! », Message codé: ¬!TVQFS!\"!Kf!wjfot!ef!dsêfs!npo!qsfnjfs!gjdijfs!\"!¼\n"
     ]
    }
   ],
   "source": [
    "with open(\"out/source.txt\", \"rt\", encoding=\"utf-8\") as fin:\n",
    "  with open(\"out/message_code.txt\", \"wt\", encoding=\"utf-8\") as fout:\n",
    "    l = \"\"\n",
    "    r = \"\"\n",
    "    for char in fin.read():\n",
    "      l += char\n",
    "      r += chr(ord(char)+1)\n",
    "\n",
    "    print(f\"Message en clair: {l}, Message codé: {r}\")\n",
    "    fout.write(r)\n",
    "\n"
   ]
  },
  {
   "cell_type": "markdown",
   "metadata": {},
   "source": [
    "### 2- Le procédé décrit ci-dessus peut être complexifié en choisissant un décalage de plus d’une unité.\n",
    "\n",
    "Sachant que le message fourni dans le fichier **message_secret.txt** a été décalé d’une valeur comprise entre -4 et +4, écrire un programme qui permet de découvrir le message secret."
   ]
  },
  {
   "cell_type": "code",
   "execution_count": 51,
   "metadata": {},
   "outputs": [
    {
     "name": "stdout",
     "output_type": "stream",
     "text": [
      "BRAVO ! Vous avez trouvé le message secret ! Vous avez obtenu votre premier diplôme d'espion.\n"
     ]
    }
   ],
   "source": [
    "def decode():\n",
    "  with open(\"src/message_secret.txt\", \"rt\", encoding=\"utf-8\") as fin:\n",
    "    freadable = fin.read()\n",
    "    possible_decoding = []\n",
    "    bad_translation = False\n",
    "\n",
    "\n",
    "    for possible_code in range(-4, 5):\n",
    "      r = \"\"\n",
    "      ### Pass to the next iteration if the possible_code is the change of 0 to the ASCII code\n",
    "      if possible_code == 0:\n",
    "        continue\n",
    "\n",
    "      for chara in freadable:\n",
    "        r += chr(ord(chara)+possible_code)\n",
    "\n",
    "      possible_decoding.append(r)\n",
    "\n",
    "    for variant in possible_decoding:\n",
    "      x = input(f\"Is this variant correct?\\n- {variant} : \")\n",
    "      if x in (\"Y\", \"YES\", \"y\", \"yes\"):\n",
    "        return variant\n",
    "\n",
    "print(decode())\n",
    "\n"
   ]
  },
  {
   "cell_type": "markdown",
   "metadata": {},
   "source": [
    "### 3- Compléter votre programme pour sauvegarder le message en clair dans le fichier **message_decode.txt**"
   ]
  },
  {
   "cell_type": "code",
   "execution_count": 56,
   "metadata": {},
   "outputs": [
    {
     "name": "stdout",
     "output_type": "stream",
     "text": [
      "Contenu du fichier out/message_decode.txt:  BRAVO ! Vous avez trouvé le message secret ! Vous avez obtenu votre premier diplôme d'espion.\n"
     ]
    }
   ],
   "source": [
    "def decode():\n",
    "  with open(\"src/message_secret.txt\", \"rt\", encoding=\"utf-8\") as fin:\n",
    "    freadable = fin.read()\n",
    "    possible_decoding = []\n",
    "    bad_translation = False\n",
    "\n",
    "\n",
    "    for possible_code in range(-4, 5):\n",
    "      r = \"\"\n",
    "      ### Pass to the next iteration if the possible_code is the change of 0 to the ASCII code\n",
    "      if possible_code == 0:\n",
    "        continue\n",
    "\n",
    "      for chara in freadable:\n",
    "        r += chr(ord(chara)+possible_code)\n",
    "\n",
    "      possible_decoding.append(r)\n",
    "\n",
    "    for variant in possible_decoding:\n",
    "      x = input(f\"Is this variant correct?\\n- {variant} : \")\n",
    "      if x in (\"Y\", \"YES\", \"y\", \"yes\"):\n",
    "        with open(\"out/message_decode.txt\", \"wt\", encoding=\"utf-8\") as fout:\n",
    "          fout.write(variant)\n",
    "\n",
    "with open(\"out/message_decode.txt\", \"rt\", encoding=\"utf-8\") as fin:\n",
    "  print(\"Contenu du fichier out/message_decode.txt: \", fin.read())\n",
    "\n"
   ]
  }
 ],
 "metadata": {
  "kernelspec": {
   "display_name": "Python 3.10.7 64-bit",
   "language": "python",
   "name": "python3"
  },
  "language_info": {
   "codemirror_mode": {
    "name": "ipython",
    "version": 3
   },
   "file_extension": ".py",
   "mimetype": "text/x-python",
   "name": "python",
   "nbconvert_exporter": "python",
   "pygments_lexer": "ipython3",
   "version": "3.10.7"
  },
  "orig_nbformat": 4,
  "vscode": {
   "interpreter": {
    "hash": "369f2c481f4da34e4445cda3fffd2e751bd1c4d706f27375911949ba6bb62e1c"
   }
  }
 },
 "nbformat": 4,
 "nbformat_minor": 2
}
