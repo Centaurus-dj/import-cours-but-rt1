{
 "cells": [
  {
   "attachments": {},
   "cell_type": "markdown",
   "metadata": {},
   "source": [
    "## 1 - Flux instantané\n",
    "\n",
    "1. Récupérer avec wget, le fichier « instantané ».\n",
    "  Voir `main.py`\n",
    "2. Créer un script python affichant le nombre de points de vente (pdv). Attention, à l’encodage du fichier ! \n",
    "Utiliser donc la classe XMLParser..."
   ]
  },
  {
   "cell_type": "code",
   "execution_count": 2,
   "metadata": {},
   "outputs": [
    {
     "name": "stdout",
     "output_type": "stream",
     "text": [
      "c:\\Users\\Alexis Opolka\\Documents\\depots\\import-cours-but-rt\\cours\\modules\\R208\\R208-TP\\R208-TP1\n",
      "9978\n"
     ]
    }
   ],
   "source": [
    "import os\n",
    "from lxml import etree\n",
    "\n",
    "print(os.path.abspath(\"./\"))\n",
    "\n",
    "tree = etree.parse('./src/instant/instant.xml')\n",
    "n1 = len(tree.xpath(\"/pdv_liste/pdv\"))\n",
    "print(n1)\n",
    "\n"
   ]
  },
  {
   "cell_type": "code",
   "execution_count": 3,
   "metadata": {},
   "outputs": [
    {
     "name": "stdout",
     "output_type": "stream",
     "text": [
      "c:\\Users\\Alexis Opolka\\Documents\\depots\\import-cours-but-rt\\cours\\modules\\R208\\R208-TP\\R208-TP1\n",
      "9978\n"
     ]
    }
   ],
   "source": [
    "import os\n",
    "from lxml import etree\n",
    "\n",
    "print(os.path.abspath(\"./\"))\n",
    "\n",
    "tree = etree.parse('./src/instant/instant.xml')\n",
    "n2 = int(tree.xpath(\"count(/pdv_liste/pdv)\"))\n",
    "print(n2)\n"
   ]
  },
  {
   "attachments": {},
   "cell_type": "markdown",
   "metadata": {},
   "source": [
    "Comme l'on peut le voir ci-dessous, n1 est bien égal à n2"
   ]
  },
  {
   "cell_type": "code",
   "execution_count": 4,
   "metadata": {},
   "outputs": [
    {
     "name": "stdout",
     "output_type": "stream",
     "text": [
      "True\n"
     ]
    }
   ],
   "source": [
    "print(n1 == n2)"
   ]
  },
  {
   "attachments": {},
   "cell_type": "markdown",
   "metadata": {},
   "source": [
    "La première méthode, l'on utilise l'expression `count()` dans XPATH,\n",
    "le nombre ressort en `float` donc si l'on veut un entier,\n",
    "on doit utiliser `int()` afin de le transformer.\n",
    "Avec cette méthode, nous n'avons que le nombre,\n",
    "on ne pourra pas utiliser les éléments pour d'autres utilisations.\n",
    "\n",
    "La deuxième méthode , l'on utilise la fonction `len()` sur XPATH,\n",
    "qui nous renvoie en fait une liste de tous les éléments du fichier.\n",
    "De base, le len ne nous renvoie pas de `float`\n",
    "(ce qui est normal, compliqué d'avoir 12.5 éléments dans une liste).\n",
    "On peut en plus réutiliser notre liste d'éléments pour de futures utilisations."
   ]
  },
  {
   "attachments": {},
   "cell_type": "markdown",
   "metadata": {},
   "source": [
    "3. Donner le détail du nombre de points de vente sur les routes, les autoroutes et les autres"
   ]
  },
  {
   "cell_type": "code",
   "execution_count": 5,
   "metadata": {},
   "outputs": [
    {
     "name": "stdout",
     "output_type": "stream",
     "text": [
      "Nous avons 9529 sur les routes, 449 sur les autoroutes et 0 autre part.\n"
     ]
    }
   ],
   "source": [
    "n = tree.xpath(\"/pdv_liste/pdv\")\n",
    "\n",
    "nombres = {\n",
    "  \"autoroute\": 0,\n",
    "  \"route\": 0,\n",
    "  \"autres\": 0,\n",
    "}\n",
    "\n",
    "for elem in n:\n",
    "  pop = elem.get(\"pop\")\n",
    "  if pop == \"R\": nombres[\"route\"] += 1\n",
    "  elif pop == \"A\": nombres[\"autoroute\"] += 1\n",
    "  else: nombres[\"autres\"] += 1\n",
    "\n",
    "print(f\"Nous avons {nombres['route']} sur les routes, {nombres['autoroute']} sur les autoroutes et {nombres['autres']} autre part.\")\n"
   ]
  },
  {
   "attachments": {},
   "cell_type": "markdown",
   "metadata": {},
   "source": [
    "4. Exécuter maintenant votre script sur le fichier instantané du 21 février 2022 (fourni sur l’ENT). Comparer les valeurs obtenues."
   ]
  },
  {
   "cell_type": "code",
   "execution_count": 6,
   "metadata": {},
   "outputs": [
    {
     "name": "stdout",
     "output_type": "stream",
     "text": [
      "95320005\n",
      "Sur le premier fichier:\n",
      "Nous avons 9529 sur les routes, 449 sur les autoroutes et 0 autre part.\n",
      "\n",
      "Sur celui de l'ENT:\n",
      "Nous avons 9456 sur les routes, 453 sur les autoroutes et 1 autre part.\n"
     ]
    }
   ],
   "source": [
    "n_tree = etree.parse('./src/instant/instant_ent.xml')\n",
    "\n",
    "def getPopPosition(parsed_xml: etree._ElementTree):\n",
    "  n = parsed_xml.xpath(\"/pdv_liste/pdv\")\n",
    "\n",
    "  nombres = {\n",
    "      \"autoroute\": 0,\n",
    "      \"route\": 0,\n",
    "      \"autres\": 0,\n",
    "  }\n",
    "\n",
    "  for elem in n:\n",
    "    pop = elem.get(\"pop\")\n",
    "    if pop == \"R\":\n",
    "      nombres[\"route\"] += 1\n",
    "    elif pop == \"A\":\n",
    "      nombres[\"autoroute\"] += 1\n",
    "    else:\n",
    "      nombres[\"autres\"] += 1\n",
    "      print(elem.get(\"id\"))\n",
    "\n",
    "  return nombres\n",
    "\n",
    "n = getPopPosition(tree)\n",
    "nn = getPopPosition(n_tree)\n",
    "\n",
    "print(\"Sur le premier fichier:\")\n",
    "print(f\"Nous avons {n['route']} sur les routes, {n['autoroute']} sur les autoroutes et {n['autres']} autre part.\")\n",
    "print(\"\\nSur celui de l'ENT:\")\n",
    "print(f\"Nous avons {nn['route']} sur les routes, {nn['autoroute']} sur les autoroutes et {nn['autres']} autre part.\")\n"
   ]
  },
  {
   "attachments": {},
   "cell_type": "markdown",
   "metadata": {},
   "source": [
    "5. Quel est le POP (Point Of Presence), l’identifiant et le code postal du PDV « autre » ?"
   ]
  },
  {
   "cell_type": "code",
   "execution_count": 7,
   "metadata": {},
   "outputs": [
    {
     "name": "stdout",
     "output_type": "stream",
     "text": [
      "Un PDV autre a comme informations: \n",
      "\t- POP: N \n",
      "\t- ID: 95320005 \n",
      "\t- CP: 95320\n"
     ]
    }
   ],
   "source": [
    "n_tree = etree.parse('./src/instant/instant_ent.xml')\n",
    "autres_pdv = n_tree.xpath(\"/pdv_liste/pdv[not(@pop='R') and not(@pop='A')]\")\n",
    "\n",
    "for pdv in autres_pdv:\n",
    "  pop, id, cp = pdv.get(\"pop\"), pdv.get(\"id\"), pdv.get(\"cp\")\n",
    "  print(f'Un PDV autre a comme informations: \\n\\t- POP: {pop} \\n\\t- ID: {id} \\n\\t- CP: {cp}')\n"
   ]
  },
  {
   "attachments": {},
   "cell_type": "markdown",
   "metadata": {},
   "source": [
    "6. Calculer le prix moyen du gazoil sur toute la france avec la fonction mean() du module statistics. Faire auparavant, une conversion en float() des valeurs."
   ]
  },
  {
   "cell_type": "code",
   "execution_count": 8,
   "metadata": {},
   "outputs": [
    {
     "name": "stdout",
     "output_type": "stream",
     "text": [
      "1.7268\n"
     ]
    }
   ],
   "source": [
    "from statistics import mean\n",
    "\n",
    "m = mean([float(elem.get(\"valeur\")) for elem in n_tree.xpath(\"/pdv_liste/pdv/prix[@nom='Gazole']\")])\n",
    "\n",
    "print(f\"{m:.4f}\")"
   ]
  },
  {
   "attachments": {},
   "cell_type": "markdown",
   "metadata": {},
   "source": [
    "7. Combien de station proposent du SP98 sur le nombre total de stations dans l’Hérault (34) ? Utiliser la fonction XPATH : starts-with(txt,start)"
   ]
  },
  {
   "cell_type": "code",
   "execution_count": 9,
   "metadata": {},
   "outputs": [
    {
     "name": "stdout",
     "output_type": "stream",
     "text": [
      "SP98 dans l'Hérault => 134/161\n"
     ]
    }
   ],
   "source": [
    "\n",
    "nbr = len(n_tree.xpath(\"/pdv_liste/pdv[starts-with(@cp, '34')]/prix[@nom='SP98']\"))\n",
    "tnbr = len(n_tree.xpath(\"/pdv_liste/pdv[starts-with(@cp, '34')]\"))\n",
    "\n",
    "print(f\"SP98 dans l'Hérault => {nbr}/{tnbr}\")"
   ]
  },
  {
   "attachments": {},
   "cell_type": "markdown",
   "metadata": {},
   "source": [
    "8. Calculer dans une boucle, le prix moyen du carburant E10 par département en utilisant le code postal."
   ]
  },
  {
   "cell_type": "code",
   "execution_count": 10,
   "metadata": {},
   "outputs": [
    {
     "name": "stdout",
     "output_type": "stream",
     "text": [
      "CP:01 => 72/116 : 1.7666\n",
      "CP:02 => 63/94 : 1.7663\n",
      "CP:03 => 46/77 : 1.7799\n",
      "CP:04 => 38/53 : 1.7840\n",
      "CP:05 => 31/48 : 1.7568\n",
      "CP:06 => 122/146 : 1.8199\n",
      "CP:07 => 42/66 : 1.7473\n",
      "CP:08 => 33/50 : 1.7647\n",
      "CP:09 => 24/36 : 1.7600\n",
      "CP:10 => 47/65 : 1.7812\n",
      "CP:11 => 57/87 : 1.7795\n",
      "CP:12 => 50/91 : 1.7883\n",
      "CP:13 => 226/275 : 1.7692\n",
      "CP:14 => 85/122 : 1.7611\n",
      "CP:15 => 25/58 : 1.7655\n",
      "CP:16 => 48/63 : 1.7569\n",
      "CP:17 => 92/120 : 1.7576\n",
      "CP:18 => 37/61 : 1.7694\n",
      "CP:19 => 47/65 : 1.7821\n",
      "CP:20 => 2/130 : 1.8495\n",
      "CP:21 => 82/125 : 1.7910\n",
      "CP:22 => 79/122 : 1.7453\n",
      "CP:23 => 19/30 : 1.7860\n",
      "CP:24 => 52/87 : 1.7577\n",
      "CP:25 => 66/96 : 1.7663\n",
      "CP:26 => 86/117 : 1.7774\n",
      "CP:27 => 71/98 : 1.7579\n",
      "CP:28 => 60/73 : 1.7734\n",
      "CP:29 => 98/153 : 1.7353\n",
      "CP:30 => 97/131 : 1.7692\n",
      "CP:31 => 166/200 : 1.7671\n",
      "CP:32 => 31/49 : 1.7640\n",
      "CP:33 => 176/227 : 1.7695\n",
      "CP:34 => 130/161 : 1.7783\n",
      "CP:35 => 120/152 : 1.7551\n",
      "CP:36 => 31/50 : 1.7702\n",
      "CP:37 => 66/94 : 1.7737\n",
      "CP:38 => 133/187 : 1.7769\n",
      "CP:39 => 48/75 : 1.7723\n",
      "CP:40 => 70/104 : 1.7767\n",
      "CP:41 => 45/65 : 1.7812\n",
      "CP:42 => 84/132 : 1.7790\n",
      "CP:43 => 28/55 : 1.7686\n",
      "CP:44 => 131/177 : 1.7555\n",
      "CP:45 => 82/108 : 1.7756\n",
      "CP:46 => 46/57 : 1.7731\n",
      "CP:47 => 49/81 : 1.7697\n",
      "CP:48 => 17/36 : 1.7928\n",
      "CP:49 => 80/102 : 1.7583\n",
      "CP:50 => 68/117 : 1.7631\n",
      "CP:51 => 77/92 : 1.7672\n",
      "CP:52 => 38/51 : 1.7925\n",
      "CP:53 => 35/58 : 1.7693\n",
      "CP:54 => 64/96 : 1.7688\n",
      "CP:55 => 26/37 : 1.7807\n",
      "CP:56 => 95/142 : 1.7565\n",
      "CP:57 => 109/138 : 1.7620\n",
      "CP:58 => 33/62 : 1.7755\n",
      "CP:59 => 189/254 : 1.7690\n",
      "CP:60 => 91/117 : 1.7717\n",
      "CP:61 => 29/57 : 1.7637\n",
      "CP:62 => 165/238 : 1.7667\n",
      "CP:63 => 88/119 : 1.7700\n",
      "CP:64 => 78/117 : 1.7870\n",
      "CP:65 => 27/48 : 1.7843\n",
      "CP:66 => 52/68 : 1.7653\n",
      "CP:67 => 119/148 : 1.7576\n",
      "CP:68 => 91/117 : 1.7456\n",
      "CP:69 => 162/200 : 1.7842\n",
      "CP:70 => 39/58 : 1.7708\n",
      "CP:71 => 89/142 : 1.7703\n",
      "CP:72 => 76/100 : 1.7779\n",
      "CP:73 => 56/91 : 1.7987\n",
      "CP:74 => 77/122 : 1.8031\n",
      "CP:75 => 43/62 : 1.9090\n",
      "CP:76 => 118/165 : 1.7641\n",
      "CP:77 => 148/180 : 1.7955\n",
      "CP:78 => 132/146 : 1.8150\n",
      "CP:79 => 48/71 : 1.7758\n",
      "CP:80 => 80/113 : 1.7734\n",
      "CP:81 => 47/75 : 1.7663\n",
      "CP:82 => 39/65 : 1.7687\n",
      "CP:83 => 154/186 : 1.7817\n",
      "CP:84 => 88/106 : 1.7631\n",
      "CP:85 => 80/120 : 1.7518\n",
      "CP:86 => 58/74 : 1.7780\n",
      "CP:87 => 55/81 : 1.7843\n",
      "CP:88 => 64/84 : 1.7603\n",
      "CP:89 => 47/91 : 1.8091\n",
      "CP:90 => 13/19 : 1.7300\n",
      "CP:91 => 120/136 : 1.8005\n",
      "CP:92 => 78/85 : 1.8784\n",
      "CP:93 => 85/92 : 1.8356\n",
      "CP:94 => 81/87 : 1.8286\n",
      "CP:95 => 102/116 : 1.8191\n",
      "CP:96 => 0/0 : None\n",
      "CP:97 => 0/0 : None\n",
      "CP:98 => 0/0 : None\n",
      "CP:99 => 0/0 : None\n",
      "CP:100 => 5/5 : 1.7918\n",
      "CP:101 => 14/19 : 1.7816\n"
     ]
    }
   ],
   "source": [
    "for i in range(1, 102): # On a théoriquement 101 départements\n",
    "  i = '0'+str(i) if i < 10 else i\n",
    "  e10_serving = n_tree.xpath(f\"/pdv_liste/pdv[starts-with(@cp, '{i}')]/prix[@nom='E10']\")\n",
    "  nbr = len(e10_serving)\n",
    "  tnbr = len(n_tree.xpath(f\"/pdv_liste/pdv[starts-with(@cp, '{i}')]\"))\n",
    "\n",
    "  if tnbr > 0:\n",
    "    m_prix = mean([float(nbr.get(\"valeur\")) for nbr in e10_serving])\n",
    "    print(f\"CP:{i} => {nbr}/{tnbr} : {m_prix:.4f}\")\n",
    "  else:\n",
    "    print(f\"CP:{i} => {nbr}/{tnbr} : None\")\n"
   ]
  },
  {
   "attachments": {},
   "cell_type": "markdown",
   "metadata": {},
   "source": [
    "## Flux annuel\n",
    "\n",
    "1. Récupérer le fichier de l'année en cours\n",
    "  Voir à nouveau `main.py`\n",
    "2. Afficher le début du fichier pour constater les petites différences de format par rapport au fichier précédent."
   ]
  },
  {
   "attachments": {},
   "cell_type": "markdown",
   "metadata": {},
   "source": [
    "3. On désire afficher la courbe du prix du gazoil sur le point de vente 34500028. Utiliser le module matplotlib pour tracer la courbe. Combien a-t-on de valeurs ?"
   ]
  },
  {
   "cell_type": "code",
   "execution_count": 11,
   "metadata": {},
   "outputs": [
    {
     "data": {
      "text/plain": [
       "[<matplotlib.lines.Line2D at 0x20c4a48d910>]"
      ]
     },
     "execution_count": 11,
     "metadata": {},
     "output_type": "execute_result"
    },
    {
     "data": {
      "image/png": "[encoded data removed]",
      "text/plain": [
       "<Figure size 640x480 with 1 Axes>"
      ]
     },
     "metadata": {},
     "output_type": "display_data"
    }
   ],
   "source": [
    "from matplotlib import pyplot as plt\n",
    "\n",
    "v_tree = etree.parse('./src/instant/instant_2023.xml')\n",
    "v = v_tree.xpath(f\"/pdv_liste/pdv[@id='34500028']/prix[@nom='Gazole']\")\n",
    "\n",
    "plt.plot([elem.get(\"maj\") for elem in v], [elem.get(\"valeur\") for elem in v])\n"
   ]
  }
 ],
 "metadata": {
  "kernelspec": {
   "display_name": "Python 3",
   "language": "python",
   "name": "python3"
  },
  "language_info": {
   "codemirror_mode": {
    "name": "ipython",
    "version": 3
   },
   "file_extension": ".py",
   "mimetype": "text/x-python",
   "name": "python",
   "nbconvert_exporter": "python",
   "pygments_lexer": "ipython3",
   "version": "3.11.2"
  },
  "orig_nbformat": 4
 },
 "nbformat": 4,
 "nbformat_minor": 2
}
