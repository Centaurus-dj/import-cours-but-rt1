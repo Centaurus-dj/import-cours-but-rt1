{
 "cells": [
  {
   "attachments": {},
   "cell_type": "markdown",
   "metadata": {},
   "source": [
    "# Compte rendu de R208-TP3 - Anonymisation de fichiers PCAP\n",
    "\n",
    "## 1 - Fichier PCAP au format JSON\n",
    "\n",
    "### 1.1 - La commande tshark (version texte de wireshark) permet d’afficher le contenu d’un fichier PCAP avec l’option -r.\n"
   ]
  },
  {
   "cell_type": "code",
   "execution_count": null,
   "metadata": {},
   "outputs": [],
   "source": []
  },
  {
   "attachments": {},
   "cell_type": "markdown",
   "metadata": {},
   "source": [
    "### 1.2 - Utiliser en plus l’option -T pour avoir un affichage au format JSON « raw ». Créer alors le fichier tp3.json."
   ]
  },
  {
   "cell_type": "code",
   "execution_count": null,
   "metadata": {},
   "outputs": [],
   "source": []
  },
  {
   "attachments": {},
   "cell_type": "markdown",
   "metadata": {},
   "source": [
    "### 1.3 - Créer alors un script python qui charge le fichier JSON et affiche le nombre de paquets.\n"
   ]
  },
  {
   "cell_type": "code",
   "execution_count": null,
   "metadata": {},
   "outputs": [],
   "source": []
  },
  {
   "attachments": {},
   "cell_type": "markdown",
   "metadata": {},
   "source": [
    "### 1.4 - Afficher ensuite la trame 14 (ARP) en hexadécimal en utilisant les données JSON. \n",
    "\n",
    "Attention, dans le  format JSON, les valeurs peuvent apparaître plusieurs fois.\n",
    "Il faudra donc bien respecter le format d’une trame Ethernet contenant de l’ARP comme le précise wireshark :\n",
    "\n",
    "Utiliser 2 listes (1 pour eth et 1 pour arp) contenant les clés à utiliser.\n",
    "\n",
    "- Couche eth, 3 champs d’entête : @dst_mac, @src_mac, type\n",
    "- Couche arp, 9 champs : hw_type, proto_type, hw_size, proto_size, opcode,  @src_hw_mac, @src_ipv4, @dst_hw_mac, @dst_ipv4\n",
    "On doit obtenir au final :\n",
    "  b07b25269ad93c5282ea5bd2080600010800060400013c5282ea5bd20acb00660000000000000acb0501"
   ]
  },
  {
   "cell_type": "code",
   "execution_count": null,
   "metadata": {},
   "outputs": [],
   "source": []
  },
  {
   "attachments": {},
   "cell_type": "markdown",
   "metadata": {},
   "source": [
    "## 2 - Création d’un fichier PCAP à partir d’une trame en hexadécimal :\n",
    "\n",
    "### 2.1 - Pour générer un fichier PCAP lisible par wireshark/tshark, il faut en premier écrire l’entête PCAP:\n",
    "\n",
    "```py\n",
    "from struct import pack\n",
    "pcap=open('arp-cb.pcap','wb')\n",
    "pcap_hdr=pack('=IHHiIII',\n",
    "               0xA1B2C3D4,  # magic_number\n",
    "               2,           # version_major\n",
    "               4,           # version_minor\n",
    "               0,           # timezone\n",
    "               0,           # sigfigs\n",
    "               0x40000,     # snaplen\n",
    "               1)           # ethernet\n",
    "pcap.write(pcap_hdr)\n",
    "```\n"
   ]
  },
  {
   "attachments": {},
   "cell_type": "markdown",
   "metadata": {},
   "source": [
    "### 2.2 - Ensuite, suivant le temps d’arrivée et la taille du paquet, on doit écrire l’entête spécifique pour le paquet puis le paquet :\n",
    "\n",
    "```py\n",
    "pkt_hexa='b07b25269ad93c5282ea5bd2080600010800060400013c5282ea5bd20acb0066\n",
    "0000000000000acb0501'\n",
    "ts_sec,ts_usec,pkt_len=0,0,len(pkt_hexa)//2\n",
    "inc_len=pkt_len if pkt_len <= 65535 else 65535\n",
    "pkt_hdr=pack('=IIII',\n",
    "               ts_sec,      # ts_sec\n",
    "               ts_usec,     # ts_usec\n",
    "               inc_len,     # number of octets of packet saved in file\n",
    "               pkt_len)     # actual length of packet\n",
    "pcap.write(pkt_hdr)\n",
    "pcap.write(bytes.fromhex(pkt_hexa))\n",
    "pcap.close()\n",
    "```"
   ]
  },
  {
   "attachments": {},
   "cell_type": "markdown",
   "metadata": {},
   "source": [
    "### 2.3 Vérifier alors que le fichier généré est bien valide et qu’il contient bien les données de la trame 14."
   ]
  },
  {
   "attachments": {},
   "cell_type": "markdown",
   "metadata": {},
   "source": [
    "## 3 - Anonymisation de trames ARP et ICMP :\n",
    "\n",
    "### 3.1 - On désire maintenant anonymiser les adresses MAC de l’entête Ethernet de la trame 14 en remplaçant les 3 derniers octets par un compteur.\n",
    "\n",
    "Utiliser un dictionnaire (par exemple ethAddr) pour sauvegarder automatiquement la transformation des adresses MAC. On doit obtenir la trame suivante :\n",
    "\n",
    "NB : On pourra créer les fonctions\n",
    "`getARPHexaFromJSON1(ethAddr,pkts_json,frameNum)` et\n",
    "`savePCAP1(fileName,kt_hexa)` :\n",
    "\n",
    "```py\n",
    "js=open('tp3.json').read()\n",
    "pkts_json=json.loads(js)\n",
    "ethAddr={}\n",
    "pkt_hexa=getARPHexaFromJSON1(ethAddr,pkts_json,14)\n",
    "savePCAP1('arp-anon1.pcap',pkt_hexa)\n",
    "```"
   ]
  },
  {
   "attachments": {},
   "cell_type": "markdown",
   "metadata": {},
   "source": [
    "### 3.2 - Comment faire pour anonymiser également les adresses MAC de la couche ARP (fonction `getARPHexaFromJSON2()`), sauf pour la valeur `000000000000` qui doit rester inchangée ?\n",
    "\n",
    "On doit obtenir la trame suivante :"
   ]
  },
  {
   "attachments": {},
   "cell_type": "markdown",
   "metadata": {},
   "source": [
    "### 3.3 - Transformer maintenant tous les paquets ARP avec cette méthode (`fonctions savePCAP3()` et `getARPHexaFromJSON3(ethAddr,p)`).\n",
    "\n",
    "On pourra tester la présence de la couche ARP dans les paquets avant de les traiter.  \n",
    "L’adresse MAC de broadcast doit aussi rester inchangée."
   ]
  },
  {
   "attachments": {},
   "cell_type": "markdown",
   "metadata": {},
   "source": [
    "### 3.4 - Comment changer les adresses IPv4 sur le même principe que pour les adresses MAC ?"
   ]
  },
  {
   "attachments": {},
   "cell_type": "markdown",
   "metadata": {},
   "source": [
    "### 3.5 - Anonymiser enfin les paquets ICMP en modifiant les adresses MAC de la couche Ethernet et les adresses IP de la couche IPv4.\n",
    "\n",
    "ATTENTION, dans l’entête IPv4, les drapeaux et le décalage de fragment forment 16 bits donc il faut compléter avec des 0 la valeur de ip.frag_offset_raw.\n",
    "On pourra utiliser les listes de champs JSON ci-dessous pour la génération de l’hexadécimal :\n",
    "\n",
    "```py\n",
    "ipv4= [ 'ip.version_raw', 'ip.dsfield_raw', 'ip.len_raw',\n",
    "        'ip.id_raw', 'ip.flags_raw', 'ip.frag_offset_raw',\n",
    "        'ip.ttl_raw', 'ip.proto_raw', 'ip.checksum_raw',\n",
    "        'ip.src_raw', 'ip.dst_raw'\n",
    "      ]\n",
    "icmp= [ 'icmp.type_raw', 'icmp.code_raw', 'icmp.checksum_raw',\n",
    "        'icmp.ident_raw', 'icmp.seq_raw', 'icmp.data_time_raw', 'data_raw'\n",
    "      ]\n",
    "```"
   ]
  },
  {
   "attachments": {},
   "cell_type": "markdown",
   "metadata": {},
   "source": [
    "### 3.6 - Activer la vérification du checksum dans les préférences du protocole IPv4 de wireshark, et constater que les paquets ICMP anonymisés ne sont plus valides.\n",
    "\n",
    "Corriger alors les entêtes IPv4 en recalculant le checksum (voir la RFC791 page 14 ou bien par exemple https://en.wikipedia.org/wiki/IPv4_header_checksum).  \n",
    "NB : en Python l’opérateur >> permet de décaler à droite (en binaire) un entier (division par les puissance de \n",
    "2), l’opérateur & permet de faire un ET bit à bit et l’opérateur ~ donne le complément à 1."
   ]
  },
  {
   "cell_type": "code",
   "execution_count": null,
   "metadata": {},
   "outputs": [],
   "source": []
  }
 ],
 "metadata": {
  "kernelspec": {
   "display_name": "Python 3",
   "language": "python",
   "name": "python3"
  },
  "language_info": {
   "codemirror_mode": {
    "name": "ipython",
    "version": 3
   },
   "file_extension": ".py",
   "mimetype": "text/x-python",
   "name": "python",
   "nbconvert_exporter": "python",
   "pygments_lexer": "ipython3",
   "version": "3.11.2"
  },
  "orig_nbformat": 4
 },
 "nbformat": 4,
 "nbformat_minor": 2
}
