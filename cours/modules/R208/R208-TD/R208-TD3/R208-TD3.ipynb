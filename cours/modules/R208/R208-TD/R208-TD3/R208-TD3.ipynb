{
 "cells": [
  {
   "attachments": {},
   "cell_type": "markdown",
   "metadata": {},
   "source": [
    "# R208-TD3"
   ]
  },
  {
   "attachments": {},
   "cell_type": "markdown",
   "metadata": {},
   "source": [
    "## 1 - Données structurées\n",
    "\n",
    "### 1.2 - Tester l’encodage d’un entier 32 bits signé (par exemple -1234) en Big-endian (afficher la suite de bytes en hexadécimal) et comparer avec la version en Little-endian."
   ]
  },
  {
   "cell_type": "code",
   "execution_count": 3,
   "metadata": {},
   "outputs": [
    {
     "name": "stdout",
     "output_type": "stream",
     "text": [
      "2efbffff\n"
     ]
    }
   ],
   "source": [
    "import struct\n",
    "\n",
    "x = struct.pack(\"<i\", -1234)\n",
    "print(x.hex())"
   ]
  },
  {
   "attachments": {},
   "cell_type": "markdown",
   "metadata": {},
   "source": [
    "### 1.3 - Encoder maintenant une suite de 4 variables en Big-Endian (-1234,2345,18,3.14). Afficher la valeur en hexadécimal"
   ]
  },
  {
   "cell_type": "code",
   "execution_count": 5,
   "metadata": {},
   "outputs": [
    {
     "name": "stdout",
     "output_type": "stream",
     "text": [
      "-1234 -> 2efbffff\n",
      "2345 -> 29090000\n",
      "18 -> 12000000\n",
      "3.14 -> c3f54840\n"
     ]
    }
   ],
   "source": [
    "decimal_values = [-1234, 2345, 18, 3.14]\n",
    "\n",
    "for decimal_value in decimal_values:\n",
    "  print(f\"{decimal_value} ->\", end=\" \")\n",
    "  if isinstance(decimal_value, int):\n",
    "    hex_value = struct.pack(\"<i\", decimal_value)\n",
    "  elif isinstance(decimal_value, float):\n",
    "    hex_value = struct.pack(\"<f\", decimal_value)\n",
    "\n",
    "  print(hex_value.hex())\n"
   ]
  },
  {
   "attachments": {},
   "cell_type": "markdown",
   "metadata": {},
   "source": [
    "### 1.3 - Sauvegarder cela dans un fichier binaire. Puis vérifier le contenu avec hexdump ou xxd."
   ]
  },
  {
   "cell_type": "code",
   "execution_count": 7,
   "metadata": {},
   "outputs": [
    {
     "name": "stdout",
     "output_type": "stream",
     "text": [
      "[-1234, 2345, 18, 3.14] b'\\xff\\xff\\xfb.\\x00\\x00\\t)\\x00\\x12@\\t\\x1e\\xb8Q\\xeb\\x85\\x1f'\n"
     ]
    }
   ],
   "source": [
    "decimal_values = [-1234, 2345, 18, 3.14]\n",
    "\n",
    "with open(\"data.bin\", \"wb\") as fout:\n",
    "  hex_value = struct.pack(\">iiHd\", -1234, 2345, 18, 3.14)\n",
    "  print(decimal_values, hex_value)\n",
    "  fout.write(hex_value)\n",
    "\n"
   ]
  },
  {
   "attachments": {},
   "cell_type": "markdown",
   "metadata": {},
   "source": [
    "### 1.4 - Relire et extraire les données avec unpack()"
   ]
  },
  {
   "cell_type": "code",
   "execution_count": 12,
   "metadata": {},
   "outputs": [
    {
     "name": "stdout",
     "output_type": "stream",
     "text": [
      "b'\\xff\\xff\\xfb.\\x00\\x00\\t)\\x00\\x12@\\t\\x1e\\xb8Q\\xeb\\x85\\x1f' -> (-1234, 2345, 18, 3.14)\n"
     ]
    }
   ],
   "source": [
    "with open(\"data.bin\", \"rb\") as fin:\n",
    "  x = fin.read()\n",
    "  print(f\"{x} -> {struct.unpack('>iiHd', x)}\")"
   ]
  },
  {
   "attachments": {},
   "cell_type": "markdown",
   "metadata": {},
   "source": [
    "## 2 - Fabrication d'un objet python\n",
    "\n",
    "### 2.1 - Créer un objet python pour la manipulation de la structure des 4 variables. Créer les méthodes \\_\\_init\\_\\_() et \\_\\_str\\_\\_() puis tester la création et l’affichage d’un objet."
   ]
  },
  {
   "cell_type": "code",
   "execution_count": 17,
   "metadata": {},
   "outputs": [
    {
     "name": "stdout",
     "output_type": "stream",
     "text": [
      "[-1234, 2345, 18, 3.14]\n",
      "(-1234, 2345, 18, 3.14)\n"
     ]
    }
   ],
   "source": [
    "class ManipulateHex:\n",
    "  Array = list | tuple\n",
    "  def __init__(self, x: int | Array, y: int | None = None, z: float | None = None, v: int | float | None = None) -> None:\n",
    "\n",
    "    if not isinstance(x, ManipulateHex.Array):\n",
    "      self.x = x\n",
    "      self.y = y\n",
    "      self.z = z\n",
    "      self.v = v\n",
    "    else:\n",
    "      if len(x) == 4:\n",
    "        self.x = x[0]\n",
    "        self.y = x[1]\n",
    "        self.z = x[2]\n",
    "        self.v = x[3]\n",
    "      self.values = x\n",
    "\n",
    "  def __str__(self):\n",
    "    return f\"{self.values}\"\n",
    "\n",
    "  def serialize(self, file: str, mode=\"wb\") -> None:\n",
    "    with open(file, mode) as Fout:\n",
    "      serialized_data = struct.pack(\">iiHd\", self.x, self.y, self.z, self.v)\n",
    "      Fout.write(serialized_data)\n",
    "\n",
    "  @staticmethod\n",
    "  def deserialize(file: str, mode=\"rb\") -> None:\n",
    "    with open(file, mode) as Fin:\n",
    "      deserialized = struct.unpack(\">iiHd\", Fin.read())\n",
    "      return deserialized\n",
    "\n",
    "\n",
    "\n",
    "t = ManipulateHex([-1234, 2345, 18, 3.14])\n",
    "print(t)\n",
    "t.serialize(\"data.bin\")\n",
    "print(ManipulateHex.deserialize(\"data.bin\"))"
   ]
  }
 ],
 "metadata": {
  "kernelspec": {
   "display_name": "Python 3",
   "language": "python",
   "name": "python3"
  },
  "language_info": {
   "codemirror_mode": {
    "name": "ipython",
    "version": 3
   },
   "file_extension": ".py",
   "mimetype": "text/x-python",
   "name": "python",
   "nbconvert_exporter": "python",
   "pygments_lexer": "ipython3",
   "version": "3.11.2"
  },
  "orig_nbformat": 4
 },
 "nbformat": 4,
 "nbformat_minor": 2
}
