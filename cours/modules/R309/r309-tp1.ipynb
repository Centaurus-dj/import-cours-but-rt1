{
 "cells": [
  {
   "cell_type": "markdown",
   "metadata": {},
   "source": [
    "# R309-TP1 - Python et Tkinter"
   ]
  },
  {
   "cell_type": "markdown",
   "metadata": {},
   "source": [
    "## I - Exercices simples"
   ]
  },
  {
   "cell_type": "markdown",
   "metadata": {},
   "source": [
    "### Exercice 1  - Des boutons et un label"
   ]
  },
  {
   "cell_type": "code",
   "execution_count": 65,
   "metadata": {},
   "outputs": [
    {
     "name": "stdout",
     "output_type": "stream",
     "text": [
      "[LOG]: Addition done --> 1\n",
      "[LOG]: Addition done --> 2\n",
      "[LOG]: Substracted done --> 1\n",
      "[LOG]: Substracted done --> 0\n"
     ]
    }
   ],
   "source": [
    "from tkinter import *\n",
    "from tkinter import ttk\n",
    "\n",
    "#### Function Definitions\n",
    "def plus_one(*args):\n",
    "  try:\n",
    "    global current_value\n",
    "\n",
    "    current_value.set(current_value.get() + 1)\n",
    "    print(f\"[LOG]: Addition done --> {current_value.get()}\")\n",
    "  except ValueError:\n",
    "    print(\"[ERROR]:  ValueError\")\n",
    "    pass\n",
    "\n",
    "def minus_one():\n",
    "  try:\n",
    "    global current_value\n",
    "\n",
    "    current_value.set(current_value.get() - 1)\n",
    "    print(f\"[LOG]: Substracted done --> {current_value.get()}\")\n",
    "\n",
    "  except ValueError:\n",
    "    print(\"[ERROR]: ValueError\")\n",
    "    pass\n",
    "\n",
    "#### Scripting\n",
    "window = Tk()\n",
    "window.title(\"Buttons & Label\")\n",
    "\n",
    "#### Variables\n",
    "current_value = IntVar()\n",
    "\n",
    "### Frames\n",
    "rootframe = ttk.Frame(window, padding=\"12 12 12 12\")\n",
    "rootframe.grid(column=0, row=0, sticky=(N, W, E, S))\n",
    "\n",
    "### Buttons\n",
    "plus_button = ttk.Button(rootframe, text=\"+\", command=plus_one).grid(column=2, row=3, sticky=E)\n",
    "minus_button = ttk.Button(rootframe, text=\"-\", command=minus_one).grid(column=4, row=3, sticky=W)\n",
    "\n",
    "### Labels\n",
    "value = ttk.Label(rootframe, textvariable=current_value).grid(column=3, row=1, sticky=N)\n",
    "\n",
    "window.mainloop()\n"
   ]
  },
  {
   "cell_type": "markdown",
   "metadata": {},
   "source": [
    "### Exercice 2 - Validation de mot de passe"
   ]
  },
  {
   "cell_type": "code",
   "execution_count": 28,
   "metadata": {},
   "outputs": [
    {
     "name": "stdout",
     "output_type": "stream",
     "text": [
      "[LOG]: ['alexis.opolka@proton.me']\n",
      "[LOG]: ['alexis.opolka@proton.me']\n",
      "[LOG]: ['alexis.opolka@proton.me']\n",
      "[LOG]: ['alexis.opolka@proton.me']\n",
      "Successful run! See the email: alexis.opolka@proton.me\n"
     ]
    }
   ],
   "source": [
    "from tkinter import *\n",
    "from tkinter import ttk\n",
    "import re\n",
    "\n",
    "#### Functions\n",
    "def validate_entry(*args):\n",
    "  global email\n",
    "  global is_valid\n",
    "  global validate_button\n",
    "\n",
    "  content = email.get()\n",
    "  result = re.findall(r'[\\w.%+-]+@[a-zA-Z0-9.-]+\\.[a-zA-Z]{2,}', content)\n",
    "\n",
    "  if result != []:\n",
    "    validate_button[\"state\"] = ACTIVE\n",
    "  else:\n",
    "    validate_button[\"state\"] = DISABLED\n",
    "\n",
    "def quit_procedure():\n",
    "  global window\n",
    "  global email\n",
    "\n",
    "  print(f\"Successful run! See the email: {email.get()}\")\n",
    "  window.destroy()\n",
    "\n",
    "#### Scripting\n",
    "window = Tk()\n",
    "window.title(\"Input Validation\")\n",
    "\n",
    "#### Variables\n",
    "email = StringVar()\n",
    "is_valid = BooleanVar()\n",
    "\n",
    "### Frames\n",
    "rootframe = ttk.Frame(window, padding=\"12 12 12 12\")\n",
    "rootframe.grid(column=0, row=0, sticky=(N, W, E, S))\n",
    "\n",
    "### Buttons\n",
    "validate_button = ttk.Button(rootframe, text=\"Valider:\", command=quit_procedure, state=DISABLED)\n",
    "validate_button.grid(column=2, row=5, sticky=E, padx=2)\n",
    "\n",
    "### Labels\n",
    "input_title = ttk.Label(rootframe, text=\"Veuillez entrer votre Email :\").grid(column=1, row=1, sticky=NE)\n",
    "input_widget = ttk.Entry(rootframe, justify=\"left\", name=\"email\", validate=\"none\", textvariable=email, exportselection=0)\n",
    "input_widget.grid(column=1, row=3, sticky=E, padx=5, pady=10)\n",
    "input_widget.bind(\"<KeyRelease>\", validate_entry)\n",
    "\n",
    "window.mainloop()"
   ]
  },
  {
   "cell_type": "markdown",
   "metadata": {},
   "source": [
    "## II - Une interface plus complète"
   ]
  },
  {
   "cell_type": "markdown",
   "metadata": {},
   "source": [
    "### Exercice 3 - Création d'un canevas"
   ]
  },
  {
   "cell_type": "code",
   "execution_count": 4,
   "metadata": {},
   "outputs": [
    {
     "name": "stdout",
     "output_type": "stream",
     "text": [
      "((0, 0)), False, color: #dfdfdf\n",
      "((1, 0)), True, color: #686b6b\n",
      "((2, 0)), False, color: #dfdfdf\n",
      "((3, 0)), True, color: #686b6b\n",
      "((4, 0)), False, color: #dfdfdf\n",
      "((5, 0)), True, color: #686b6b\n",
      "((6, 0)), False, color: #dfdfdf\n",
      "((7, 0)), True, color: #686b6b\n",
      "((0, 1)), True, color: #686b6b\n",
      "((1, 1)), False, color: #dfdfdf\n",
      "((2, 1)), True, color: #686b6b\n",
      "((3, 1)), False, color: #dfdfdf\n",
      "((4, 1)), True, color: #686b6b\n",
      "((5, 1)), False, color: #dfdfdf\n",
      "((6, 1)), True, color: #686b6b\n",
      "((7, 1)), False, color: #dfdfdf\n",
      "((0, 2)), False, color: #dfdfdf\n",
      "((1, 2)), True, color: #686b6b\n",
      "((2, 2)), False, color: #dfdfdf\n",
      "((3, 2)), True, color: #686b6b\n",
      "((4, 2)), False, color: #dfdfdf\n",
      "((5, 2)), True, color: #686b6b\n",
      "((6, 2)), False, color: #dfdfdf\n",
      "((7, 2)), True, color: #686b6b\n",
      "((0, 3)), True, color: #686b6b\n",
      "((1, 3)), False, color: #dfdfdf\n",
      "((2, 3)), True, color: #686b6b\n",
      "((3, 3)), False, color: #dfdfdf\n",
      "((4, 3)), True, color: #686b6b\n",
      "((5, 3)), False, color: #dfdfdf\n",
      "((6, 3)), True, color: #686b6b\n",
      "((7, 3)), False, color: #dfdfdf\n",
      "((0, 4)), False, color: #dfdfdf\n",
      "((1, 4)), True, color: #686b6b\n",
      "((2, 4)), False, color: #dfdfdf\n",
      "((3, 4)), True, color: #686b6b\n",
      "((4, 4)), False, color: #dfdfdf\n",
      "((5, 4)), True, color: #686b6b\n",
      "((6, 4)), False, color: #dfdfdf\n",
      "((7, 4)), True, color: #686b6b\n",
      "((0, 5)), True, color: #686b6b\n",
      "((1, 5)), False, color: #dfdfdf\n",
      "((2, 5)), True, color: #686b6b\n",
      "((3, 5)), False, color: #dfdfdf\n",
      "((4, 5)), True, color: #686b6b\n",
      "((5, 5)), False, color: #dfdfdf\n",
      "((6, 5)), True, color: #686b6b\n",
      "((7, 5)), False, color: #dfdfdf\n",
      "((0, 6)), False, color: #dfdfdf\n",
      "((1, 6)), True, color: #686b6b\n",
      "((2, 6)), False, color: #dfdfdf\n",
      "((3, 6)), True, color: #686b6b\n",
      "((4, 6)), False, color: #dfdfdf\n",
      "((5, 6)), True, color: #686b6b\n",
      "((6, 6)), False, color: #dfdfdf\n",
      "((7, 6)), True, color: #686b6b\n",
      "((0, 7)), True, color: #686b6b\n",
      "((1, 7)), False, color: #dfdfdf\n",
      "((2, 7)), True, color: #686b6b\n",
      "((3, 7)), False, color: #dfdfdf\n",
      "((4, 7)), True, color: #686b6b\n",
      "((5, 7)), False, color: #dfdfdf\n",
      "((6, 7)), True, color: #686b6b\n",
      "((7, 7)), False, color: #dfdfdf\n"
     ]
    }
   ],
   "source": [
    "from itertools import cycle\n",
    "from tkinter import *\n",
    "from tkinter import ttk\n",
    "from turtle import bgcolor\n",
    "\n",
    "#### Scripting\n",
    "window = Tk()\n",
    "window.title(\"Input Validation\")\n",
    "\n",
    "### Frames\n",
    "rootframe = ttk.Frame(window, padding=\"12 12 12 12\")\n",
    "rootframe.grid(column=0, row=0, sticky=(N, W, E, S))\n",
    "\n",
    "### Canvas\n",
    "base_value = 100\n",
    "maincanvas = Canvas(rootframe, {\n",
    "  \"bg\": \"grey\",\n",
    "  \"width\": 800,\n",
    "  \"height\": 800\n",
    "})\n",
    "maincanvas.grid(column=8, row=8, columnspan=base_value, rowspan=base_value)\n",
    "\n",
    "last_fill = \"\"\n",
    "black = \"#000000\"\n",
    "grey = \"#686b6b\"\n",
    "white = \"#dfdfdf\"\n",
    "\n",
    "\n",
    "for y in range(0, 8):\n",
    "  for x in range(0, 8):\n",
    "    print(f\"({x, y}), {True if (x+y)%2 else False}, color: {grey if (x+y)%2 else white}\")\n",
    "    color = grey if (x+y)%2 else white\n",
    "    maincanvas.create_rectangle(x*base_value, base_value*y, (x+1)*base_value, (y+1)*base_value, fill=color, width=0)\n",
    "\n",
    "window.mainloop()"
   ]
  },
  {
   "cell_type": "markdown",
   "metadata": {},
   "source": [
    "### Exercice 4 - Déplaçons des pièces"
   ]
  },
  {
   "cell_type": "code",
   "execution_count": 45,
   "metadata": {},
   "outputs": [],
   "source": [
    "### Here we should create an SVG element usable\n",
    "### throughout the Tkinter process.\n",
    "### As for now, we just load the SVG element."
   ]
  },
  {
   "cell_type": "code",
   "execution_count": 67,
   "metadata": {},
   "outputs": [
    {
     "name": "stdout",
     "output_type": "stream",
     "text": [
      "[[1, 0, 0, [0, 0]], [2, 1, 0, [200, 0]], [3, 2, 0, [400, 0]], [4, 3, 0, [600, 0]], [5, 4, 0, [800, 0]], [6, 5, 0, [1000, 0]], [7, 6, 0, [1200, 0]], [8, 7, 0, [1400, 0]], [9, 0, 1, [0, 200]], [10, 1, 1, [200, 200]], [11, 2, 1, [400, 200]], [12, 3, 1, [600, 200]], [13, 4, 1, [800, 200]], [14, 5, 1, [1000, 200]], [15, 6, 1, [1200, 200]], [16, 7, 1, [1400, 200]], [17, 0, 2, [0, 400]], [18, 1, 2, [200, 400]], [19, 2, 2, [400, 400]], [20, 3, 2, [600, 400]], [21, 4, 2, [800, 400]], [22, 5, 2, [1000, 400]], [23, 6, 2, [1200, 400]], [24, 7, 2, [1400, 400]], [25, 0, 3, [0, 600]], [26, 1, 3, [200, 600]], [27, 2, 3, [400, 600]], [28, 3, 3, [600, 600]], [29, 4, 3, [800, 600]], [30, 5, 3, [1000, 600]], [31, 6, 3, [1200, 600]], [32, 7, 3, [1400, 600]], [33, 0, 4, [0, 800]], [34, 1, 4, [200, 800]], [35, 2, 4, [400, 800]], [36, 3, 4, [600, 800]], [37, 4, 4, [800, 800]], [38, 5, 4, [1000, 800]], [39, 6, 4, [1200, 800]], [40, 7, 4, [1400, 800]], [41, 0, 5, [0, 1000]], [42, 1, 5, [200, 1000]], [43, 2, 5, [400, 1000]], [44, 3, 5, [600, 1000]], [45, 4, 5, [800, 1000]], [46, 5, 5, [1000, 1000]], [47, 6, 5, [1200, 1000]], [48, 7, 5, [1400, 1000]], [49, 0, 6, [0, 1200]], [50, 1, 6, [200, 1200]], [51, 2, 6, [400, 1200]], [52, 3, 6, [600, 1200]], [53, 4, 6, [800, 1200]], [54, 5, 6, [1000, 1200]], [55, 6, 6, [1200, 1200]], [56, 7, 6, [1400, 1200]], [57, 0, 7, [0, 1400]], [58, 1, 7, [200, 1400]], [59, 2, 7, [400, 1400]], [60, 3, 7, [600, 1400]], [61, 4, 7, [800, 1400]], [62, 5, 7, [1000, 1400]], [63, 6, 7, [1200, 1400]], [64, 7, 7, [1400, 1400]]]\n"
     ]
    }
   ],
   "source": [
    "from tkinter import *\n",
    "from tkinter import ttk\n",
    "from PIL import ImageTk\n",
    "\n",
    "\n",
    "#### Scripting\n",
    "window = Tk()\n",
    "window.title(\"Input Validation\")\n",
    "\n",
    "### Frames\n",
    "rootframe = ttk.Frame(window, padding=\"12 12 12 12\")\n",
    "rootframe.grid(column=0, row=0, sticky=(N, W, E, S))\n",
    "\n",
    "### Canvas\n",
    "base_value = 200\n",
    "maincanvas = Canvas(rootframe, {\n",
    "  \"bg\": \"grey\",\n",
    "  \"width\": 800,\n",
    "  \"height\": 800\n",
    "})\n",
    "maincanvas.grid(column=8, row=8, columnspan=base_value, rowspan=base_value)\n",
    "\n",
    "last_fill = \"\"\n",
    "black = \"#000000\"\n",
    "grey = \"#686b6b\"\n",
    "white = \"#dfdfdf\"\n",
    "\n",
    "chessboard = []\n",
    "\n",
    "for y in range(0, 8):\n",
    "  for x in range(0, 8):\n",
    "    color = grey if (x+y)%2 else white\n",
    "    chessboard.append([maincanvas.create_rectangle(x*base_value, base_value*y, (x+1)*base_value, (y+1)*base_value, fill=color, width=0), x, y, [x*base_value, y*base_value]])\n",
    "\n",
    "\n",
    "### Images\n",
    "black_queen = PhotoImage(\"black-queen\", file=\"./src/queen.png\")\n",
    "\n",
    "bq = maincanvas.create_image(chessboard[0][1]*base_value, chessboard[0][2]*base_value, image=black_queen)\n",
    "\n",
    "\n",
    "print(chessboard)\n",
    "\n",
    "window.mainloop()"
   ]
  },
  {
   "cell_type": "markdown",
   "metadata": {},
   "source": [
    "### Exercice 5 - Amélioration"
   ]
  },
  {
   "cell_type": "code",
   "execution_count": null,
   "metadata": {},
   "outputs": [],
   "source": []
  },
  {
   "cell_type": "markdown",
   "metadata": {},
   "source": [
    "### Exercice 6 - Le Eight Queens"
   ]
  },
  {
   "cell_type": "code",
   "execution_count": null,
   "metadata": {},
   "outputs": [],
   "source": []
  },
  {
   "cell_type": "markdown",
   "metadata": {},
   "source": [
    "### Exercice 7 - Le diable est dans les détails"
   ]
  },
  {
   "cell_type": "code",
   "execution_count": null,
   "metadata": {},
   "outputs": [],
   "source": []
  }
 ],
 "metadata": {
  "kernelspec": {
   "display_name": "jupyter",
   "language": "python",
   "name": "python3"
  },
  "language_info": {
   "codemirror_mode": {
    "name": "ipython",
    "version": 3
   },
   "file_extension": ".py",
   "mimetype": "text/x-python",
   "name": "python",
   "nbconvert_exporter": "python",
   "pygments_lexer": "ipython3",
   "version": "3.12.0rc3"
  }
 },
 "nbformat": 4,
 "nbformat_minor": 2
}
