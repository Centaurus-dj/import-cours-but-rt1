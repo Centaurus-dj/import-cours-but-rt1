{
 "cells": [
  {
   "cell_type": "markdown",
   "metadata": {},
   "source": [
    "# R309-TP1 - Python et Tkinter"
   ]
  },
  {
   "cell_type": "markdown",
   "metadata": {},
   "source": [
    "## I - Exercices simples"
   ]
  },
  {
   "cell_type": "markdown",
   "metadata": {},
   "source": [
    "### Exercice 1  - Des boutons et un label"
   ]
  },
  {
   "cell_type": "code",
   "execution_count": 65,
   "metadata": {},
   "outputs": [
    {
     "name": "stdout",
     "output_type": "stream",
     "text": [
      "[LOG]: Addition done --> 1\n",
      "[LOG]: Addition done --> 2\n",
      "[LOG]: Substracted done --> 1\n",
      "[LOG]: Substracted done --> 0\n"
     ]
    }
   ],
   "source": [
    "from tkinter import *\n",
    "from tkinter import ttk\n",
    "\n",
    "#### Function Definitions\n",
    "def plus_one(*args):\n",
    "  try:\n",
    "    global current_value\n",
    "\n",
    "    current_value.set(current_value.get() + 1)\n",
    "    print(f\"[LOG]: Addition done --> {current_value.get()}\")\n",
    "  except ValueError:\n",
    "    print(\"[ERROR]:  ValueError\")\n",
    "    pass\n",
    "\n",
    "def minus_one():\n",
    "  try:\n",
    "    global current_value\n",
    "\n",
    "    current_value.set(current_value.get() - 1)\n",
    "    print(f\"[LOG]: Substracted done --> {current_value.get()}\")\n",
    "\n",
    "  except ValueError:\n",
    "    print(\"[ERROR]: ValueError\")\n",
    "    pass\n",
    "\n",
    "#### Scripting\n",
    "window = Tk()\n",
    "window.title(\"Buttons & Label\")\n",
    "\n",
    "#### Variables\n",
    "current_value = IntVar()\n",
    "\n",
    "### Frames\n",
    "rootframe = ttk.Frame(window, padding=\"12 12 12 12\")\n",
    "rootframe.grid(column=0, row=0, sticky=(N, W, E, S))\n",
    "\n",
    "### Buttons\n",
    "plus_button = ttk.Button(rootframe, text=\"+\", command=plus_one).grid(column=2, row=3, sticky=E)\n",
    "minus_button = ttk.Button(rootframe, text=\"-\", command=minus_one).grid(column=4, row=3, sticky=W)\n",
    "\n",
    "### Labels\n",
    "value = ttk.Label(rootframe, textvariable=current_value).grid(column=3, row=1, sticky=N)\n",
    "\n",
    "window.mainloop()\n"
   ]
  },
  {
   "cell_type": "markdown",
   "metadata": {},
   "source": [
    "### Exercice 2 - Validation de mot de passe"
   ]
  },
  {
   "cell_type": "code",
   "execution_count": 28,
   "metadata": {},
   "outputs": [
    {
     "name": "stdout",
     "output_type": "stream",
     "text": [
      "[LOG]: ['alexis.opolka@proton.me']\n",
      "[LOG]: ['alexis.opolka@proton.me']\n",
      "[LOG]: ['alexis.opolka@proton.me']\n",
      "[LOG]: ['alexis.opolka@proton.me']\n",
      "Successful run! See the email: alexis.opolka@proton.me\n"
     ]
    }
   ],
   "source": [
    "from tkinter import *\n",
    "from tkinter import ttk\n",
    "import re\n",
    "\n",
    "#### Functions\n",
    "def validate_entry(*args):\n",
    "  global email\n",
    "  global is_valid\n",
    "  global validate_button\n",
    "\n",
    "  content = email.get()\n",
    "  result = re.findall(r'[\\w.%+-]+@[a-zA-Z0-9.-]+\\.[a-zA-Z]{2,}', content)\n",
    "\n",
    "  if result != []:\n",
    "    validate_button[\"state\"] = ACTIVE\n",
    "  else:\n",
    "    validate_button[\"state\"] = DISABLED\n",
    "\n",
    "def quit_procedure():\n",
    "  global window\n",
    "  global email\n",
    "\n",
    "  print(f\"Successful run! See the email: {email.get()}\")\n",
    "  window.destroy()\n",
    "\n",
    "#### Scripting\n",
    "window = Tk()\n",
    "window.title(\"Input Validation\")\n",
    "\n",
    "#### Variables\n",
    "email = StringVar()\n",
    "is_valid = BooleanVar()\n",
    "\n",
    "### Frames\n",
    "rootframe = ttk.Frame(window, padding=\"12 12 12 12\")\n",
    "rootframe.grid(column=0, row=0, sticky=(N, W, E, S))\n",
    "\n",
    "### Buttons\n",
    "validate_button = ttk.Button(rootframe, text=\"Valider:\", command=quit_procedure, state=DISABLED)\n",
    "validate_button.grid(column=2, row=5, sticky=E, padx=2)\n",
    "\n",
    "### Labels\n",
    "input_title = ttk.Label(rootframe, text=\"Veuillez entrer votre Email :\").grid(column=1, row=1, sticky=NE)\n",
    "input_widget = ttk.Entry(rootframe, justify=\"left\", name=\"email\", validate=\"none\", textvariable=email, exportselection=0)\n",
    "input_widget.grid(column=1, row=3, sticky=E, padx=5, pady=10)\n",
    "input_widget.bind(\"<KeyRelease>\", validate_entry)\n",
    "\n",
    "window.mainloop()"
   ]
  },
  {
   "cell_type": "markdown",
   "metadata": {},
   "source": [
    "## II - Une interface plus complète"
   ]
  },
  {
   "cell_type": "markdown",
   "metadata": {},
   "source": [
    "### Exercice 3 - Création d'un canevas"
   ]
  },
  {
   "cell_type": "code",
   "execution_count": 4,
   "metadata": {},
   "outputs": [
    {
     "name": "stdout",
     "output_type": "stream",
     "text": [
      "((0, 0)), False, color: #dfdfdf\n",
      "((1, 0)), True, color: #686b6b\n",
      "((2, 0)), False, color: #dfdfdf\n",
      "((3, 0)), True, color: #686b6b\n",
      "((4, 0)), False, color: #dfdfdf\n",
      "((5, 0)), True, color: #686b6b\n",
      "((6, 0)), False, color: #dfdfdf\n",
      "((7, 0)), True, color: #686b6b\n",
      "((0, 1)), True, color: #686b6b\n",
      "((1, 1)), False, color: #dfdfdf\n",
      "((2, 1)), True, color: #686b6b\n",
      "((3, 1)), False, color: #dfdfdf\n",
      "((4, 1)), True, color: #686b6b\n",
      "((5, 1)), False, color: #dfdfdf\n",
      "((6, 1)), True, color: #686b6b\n",
      "((7, 1)), False, color: #dfdfdf\n",
      "((0, 2)), False, color: #dfdfdf\n",
      "((1, 2)), True, color: #686b6b\n",
      "((2, 2)), False, color: #dfdfdf\n",
      "((3, 2)), True, color: #686b6b\n",
      "((4, 2)), False, color: #dfdfdf\n",
      "((5, 2)), True, color: #686b6b\n",
      "((6, 2)), False, color: #dfdfdf\n",
      "((7, 2)), True, color: #686b6b\n",
      "((0, 3)), True, color: #686b6b\n",
      "((1, 3)), False, color: #dfdfdf\n",
      "((2, 3)), True, color: #686b6b\n",
      "((3, 3)), False, color: #dfdfdf\n",
      "((4, 3)), True, color: #686b6b\n",
      "((5, 3)), False, color: #dfdfdf\n",
      "((6, 3)), True, color: #686b6b\n",
      "((7, 3)), False, color: #dfdfdf\n",
      "((0, 4)), False, color: #dfdfdf\n",
      "((1, 4)), True, color: #686b6b\n",
      "((2, 4)), False, color: #dfdfdf\n",
      "((3, 4)), True, color: #686b6b\n",
      "((4, 4)), False, color: #dfdfdf\n",
      "((5, 4)), True, color: #686b6b\n",
      "((6, 4)), False, color: #dfdfdf\n",
      "((7, 4)), True, color: #686b6b\n",
      "((0, 5)), True, color: #686b6b\n",
      "((1, 5)), False, color: #dfdfdf\n",
      "((2, 5)), True, color: #686b6b\n",
      "((3, 5)), False, color: #dfdfdf\n",
      "((4, 5)), True, color: #686b6b\n",
      "((5, 5)), False, color: #dfdfdf\n",
      "((6, 5)), True, color: #686b6b\n",
      "((7, 5)), False, color: #dfdfdf\n",
      "((0, 6)), False, color: #dfdfdf\n",
      "((1, 6)), True, color: #686b6b\n",
      "((2, 6)), False, color: #dfdfdf\n",
      "((3, 6)), True, color: #686b6b\n",
      "((4, 6)), False, color: #dfdfdf\n",
      "((5, 6)), True, color: #686b6b\n",
      "((6, 6)), False, color: #dfdfdf\n",
      "((7, 6)), True, color: #686b6b\n",
      "((0, 7)), True, color: #686b6b\n",
      "((1, 7)), False, color: #dfdfdf\n",
      "((2, 7)), True, color: #686b6b\n",
      "((3, 7)), False, color: #dfdfdf\n",
      "((4, 7)), True, color: #686b6b\n",
      "((5, 7)), False, color: #dfdfdf\n",
      "((6, 7)), True, color: #686b6b\n",
      "((7, 7)), False, color: #dfdfdf\n"
     ]
    }
   ],
   "source": [
    "from itertools import cycle\n",
    "from tkinter import *\n",
    "from tkinter import ttk\n",
    "from turtle import bgcolor\n",
    "\n",
    "#### Scripting\n",
    "window = Tk()\n",
    "window.title(\"Input Validation\")\n",
    "\n",
    "### Frames\n",
    "rootframe = ttk.Frame(window, padding=\"12 12 12 12\")\n",
    "rootframe.grid(column=0, row=0, sticky=(N, W, E, S))\n",
    "\n",
    "### Canvas\n",
    "base_value = 100\n",
    "maincanvas = Canvas(rootframe, {\n",
    "  \"bg\": \"grey\",\n",
    "  \"width\": 800,\n",
    "  \"height\": 800\n",
    "})\n",
    "maincanvas.grid(column=8, row=8, columnspan=base_value, rowspan=base_value)\n",
    "\n",
    "last_fill = \"\"\n",
    "black = \"#000000\"\n",
    "grey = \"#686b6b\"\n",
    "white = \"#dfdfdf\"\n",
    "\n",
    "\n",
    "for y in range(0, 8):\n",
    "  for x in range(0, 8):\n",
    "    print(f\"({x, y}), {True if (x+y)%2 else False}, color: {grey if (x+y)%2 else white}\")\n",
    "    color = grey if (x+y)%2 else white\n",
    "    maincanvas.create_rectangle(x*base_value, base_value*y, (x+1)*base_value, (y+1)*base_value, fill=color, width=0)\n",
    "\n",
    "window.mainloop()"
   ]
  },
  {
   "cell_type": "markdown",
   "metadata": {},
   "source": [
    "### Exercice 4 - Déplaçons des pièces"
   ]
  },
  {
   "cell_type": "code",
   "execution_count": 45,
   "metadata": {},
   "outputs": [],
   "source": [
    "### Here we should create an SVG element usable\n",
    "### throughout the Tkinter process.\n",
    "### As for now, we just load the SVG element."
   ]
  },
  {
   "cell_type": "code",
   "execution_count": 21,
   "metadata": {},
   "outputs": [
    {
     "ename": "TclError",
     "evalue": "image \"pyimage5\" doesn't exist",
     "output_type": "error",
     "traceback": [
      "\u001b[1;31m---------------------------------------------------------------------------\u001b[0m",
      "\u001b[1;31mTclError\u001b[0m                                  Traceback (most recent call last)",
      "\u001b[1;32mc:\\Users\\Alexis Opolka\\Documents\\depots\\import-cours-but-rt\\cours\\modules\\R309\\r309-tp1.ipynb Cell 12\u001b[0m line \u001b[0;36m3\n\u001b[0;32m     <a href='vscode-notebook-cell:/c%3A/Users/Alexis%20Opolka/Documents/depots/import-cours-but-rt/cours/modules/R309/r309-tp1.ipynb#X14sZmlsZQ%3D%3D?line=35'>36</a>\u001b[0m \u001b[39m### Images\u001b[39;00m\n\u001b[0;32m     <a href='vscode-notebook-cell:/c%3A/Users/Alexis%20Opolka/Documents/depots/import-cours-but-rt/cours/modules/R309/r309-tp1.ipynb#X14sZmlsZQ%3D%3D?line=36'>37</a>\u001b[0m img \u001b[39m=\u001b[39m ImageTk\u001b[39m.\u001b[39mPhotoImage(Image\u001b[39m.\u001b[39mopen(\u001b[39m\"\u001b[39m\u001b[39m./src/queen.png\u001b[39m\u001b[39m\"\u001b[39m, \u001b[39m\"\u001b[39m\u001b[39mr\u001b[39m\u001b[39m\"\u001b[39m)\u001b[39m.\u001b[39mresize((\u001b[39m71\u001b[39m, \u001b[39m71\u001b[39m)))\n\u001b[1;32m---> <a href='vscode-notebook-cell:/c%3A/Users/Alexis%20Opolka/Documents/depots/import-cours-but-rt/cours/modules/R309/r309-tp1.ipynb#X14sZmlsZQ%3D%3D?line=38'>39</a>\u001b[0m bq \u001b[39m=\u001b[39m maincanvas\u001b[39m.\u001b[39;49mcreate_image(\u001b[39m50\u001b[39;49m, \u001b[39m50\u001b[39;49m, image\u001b[39m=\u001b[39;49mimg)\n\u001b[0;32m     <a href='vscode-notebook-cell:/c%3A/Users/Alexis%20Opolka/Documents/depots/import-cours-but-rt/cours/modules/R309/r309-tp1.ipynb#X14sZmlsZQ%3D%3D?line=41'>42</a>\u001b[0m \u001b[39mprint\u001b[39m(chessboard)\n\u001b[0;32m     <a href='vscode-notebook-cell:/c%3A/Users/Alexis%20Opolka/Documents/depots/import-cours-but-rt/cours/modules/R309/r309-tp1.ipynb#X14sZmlsZQ%3D%3D?line=43'>44</a>\u001b[0m window\u001b[39m.\u001b[39mmainloop()\n",
      "File \u001b[1;32mc:\\Python311\\Lib\\tkinter\\__init__.py:2846\u001b[0m, in \u001b[0;36mCanvas.create_image\u001b[1;34m(self, *args, **kw)\u001b[0m\n\u001b[0;32m   2844\u001b[0m \u001b[39mdef\u001b[39;00m \u001b[39mcreate_image\u001b[39m(\u001b[39mself\u001b[39m, \u001b[39m*\u001b[39margs, \u001b[39m*\u001b[39m\u001b[39m*\u001b[39mkw):\n\u001b[0;32m   2845\u001b[0m \u001b[39m    \u001b[39m\u001b[39m\"\"\"Create image item with coordinates x1,y1.\"\"\"\u001b[39;00m\n\u001b[1;32m-> 2846\u001b[0m     \u001b[39mreturn\u001b[39;00m \u001b[39mself\u001b[39;49m\u001b[39m.\u001b[39;49m_create(\u001b[39m'\u001b[39;49m\u001b[39mimage\u001b[39;49m\u001b[39m'\u001b[39;49m, args, kw)\n",
      "File \u001b[1;32mc:\\Python311\\Lib\\tkinter\\__init__.py:2832\u001b[0m, in \u001b[0;36mCanvas._create\u001b[1;34m(self, itemType, args, kw)\u001b[0m\n\u001b[0;32m   2830\u001b[0m \u001b[39melse\u001b[39;00m:\n\u001b[0;32m   2831\u001b[0m     cnf \u001b[39m=\u001b[39m {}\n\u001b[1;32m-> 2832\u001b[0m \u001b[39mreturn\u001b[39;00m \u001b[39mself\u001b[39m\u001b[39m.\u001b[39mtk\u001b[39m.\u001b[39mgetint(\u001b[39mself\u001b[39;49m\u001b[39m.\u001b[39;49mtk\u001b[39m.\u001b[39;49mcall(\n\u001b[0;32m   2833\u001b[0m     \u001b[39mself\u001b[39;49m\u001b[39m.\u001b[39;49m_w, \u001b[39m'\u001b[39;49m\u001b[39mcreate\u001b[39;49m\u001b[39m'\u001b[39;49m, itemType,\n\u001b[0;32m   2834\u001b[0m     \u001b[39m*\u001b[39;49m(args \u001b[39m+\u001b[39;49m \u001b[39mself\u001b[39;49m\u001b[39m.\u001b[39;49m_options(cnf, kw))))\n",
      "\u001b[1;31mTclError\u001b[0m: image \"pyimage5\" doesn't exist"
     ]
    }
   ],
   "source": [
    "from tkinter import *\n",
    "from tkinter import ttk\n",
    "from PIL import Image, ImageTk\n",
    "\n",
    "\n",
    "#### Scripting\n",
    "window = Tk()\n",
    "window.title(\"Input Validation\")\n",
    "\n",
    "### Frames\n",
    "rootframe = ttk.Frame(window, padding=\"12 12 12 12\")\n",
    "rootframe.grid(column=0, row=0, sticky=(N, W, E, S))\n",
    "\n",
    "### Canvas\n",
    "base_value = 100\n",
    "maincanvas = Canvas(rootframe, {\n",
    "  \"bg\": \"grey\",\n",
    "  \"width\": 800,\n",
    "  \"height\": 800\n",
    "})\n",
    "maincanvas.grid(column=8, row=8, columnspan=base_value, rowspan=base_value)\n",
    "\n",
    "last_fill = \"\"\n",
    "black = \"#000000\"\n",
    "grey = \"#686b6b\"\n",
    "white = \"#dfdfdf\"\n",
    "\n",
    "chessboard = []\n",
    "\n",
    "for y in range(0, 8):\n",
    "  for x in range(0, 8):\n",
    "    color = grey if (x+y)%2 else white\n",
    "    chessboard.append([maincanvas.create_rectangle(x*base_value, base_value*y, (x+1)*base_value, (y+1)*base_value, fill=color, width=0), x, y, [x*base_value, y*base_value]])\n",
    "\n",
    "\n",
    "### Images\n",
    "img = ImageTk.PhotoImage(Image.open(\"./src/queen.png\", \"r\").resize((71, 71)))\n",
    "\n",
    "bq = maincanvas.create_image(50, 50, image=img)\n",
    "\n",
    "\n",
    "print(chessboard)\n",
    "\n",
    "window.mainloop()"
   ]
  },
  {
   "cell_type": "markdown",
   "metadata": {},
   "source": [
    "### Exercice 5 - Amélioration"
   ]
  },
  {
   "cell_type": "code",
   "execution_count": null,
   "metadata": {},
   "outputs": [],
   "source": []
  },
  {
   "cell_type": "markdown",
   "metadata": {},
   "source": [
    "### Exercice 6 - Le Eight Queens"
   ]
  },
  {
   "cell_type": "code",
   "execution_count": null,
   "metadata": {},
   "outputs": [],
   "source": []
  },
  {
   "cell_type": "markdown",
   "metadata": {},
   "source": [
    "### Exercice 7 - Le diable est dans les détails"
   ]
  },
  {
   "cell_type": "code",
   "execution_count": null,
   "metadata": {},
   "outputs": [],
   "source": []
  }
 ],
 "metadata": {
  "kernelspec": {
   "display_name": "jupyter",
   "language": "python",
   "name": "python3"
  },
  "language_info": {
   "codemirror_mode": {
    "name": "ipython",
    "version": 3
   },
   "file_extension": ".py",
   "mimetype": "text/x-python",
   "name": "python",
   "nbconvert_exporter": "python",
   "pygments_lexer": "ipython3",
   "version": "3.11.3"
  }
 },
 "nbformat": 4,
 "nbformat_minor": 2
}
