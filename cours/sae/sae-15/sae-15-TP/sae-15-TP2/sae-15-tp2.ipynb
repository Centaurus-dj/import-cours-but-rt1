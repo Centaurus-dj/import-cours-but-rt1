{
 "cells": [
  {
   "attachments": {},
   "cell_type": "markdown",
   "metadata": {},
   "source": [
    "# SAE-15 - Introduction à Gnuplot"
   ]
  },
  {
   "attachments": {},
   "cell_type": "markdown",
   "metadata": {},
   "source": [
    "## 2 - Premier contact\n",
    "\n",
    "Pour démarrer Gnuplot, il suffit d'invoquer la commande `gnuplot` dans le terminal.  \n",
    "Le logiciel se présente sous la forme d'un shell (ligne de commande) qui attend vos commandes afin de tracer des courbes.\n",
    "\n",
    "A tout moment, vous pouvez interroger l'aide en ligne en tapant la commande *help* suivie du nom d'une commande.  \n",
    "Vous pouvez également consulter l'aide disponible sur le site de Gnuplot: [gnuplot.sourceforge.net](https://gnuplot.sourceforge.net)\n",
    "\n",
    "Pour quitter le programme, vous pouvez utiliser la commande *exit*.  \n",
    "Pour réinitialiser le programme, vous pouvez utiliser la commande *reset*"
   ]
  },
  {
   "attachments": {},
   "cell_type": "markdown",
   "metadata": {},
   "source": [
    "### 2.1 - Définition d'une fonction\n",
    "\n",
    "Pour tracer des fonctions, il faut, dans un premier temps, les définir.  "
   ]
  },
  {
   "cell_type": "code",
   "execution_count": 1,
   "metadata": {
    "vscode": {
     "languageId": "shellscript"
    }
   },
   "outputs": [
    {
     "ename": "SyntaxError",
     "evalue": "cannot assign to function call here. Maybe you meant '==' instead of '='? (2264922381.py, line 1)",
     "output_type": "error",
     "traceback": [
      "\u001b[1;36m  Cell \u001b[1;32mIn[1], line 1\u001b[1;36m\u001b[0m\n\u001b[1;33m    f(x) = 2*sin(x + 3.14159);\u001b[0m\n\u001b[1;37m    ^\u001b[0m\n\u001b[1;31mSyntaxError\u001b[0m\u001b[1;31m:\u001b[0m cannot assign to function call here. Maybe you meant '==' instead of '='?\n"
     ]
    }
   ],
   "source": [
    "f(x) = 2*sin(x + 3.14159);\n",
    "plot f(x)"
   ]
  },
  {
   "attachments": {},
   "cell_type": "markdown",
   "metadata": {},
   "source": [
    "### 2.2 - Tracés simples\n",
    "\n",
    "#### Exercice 1 - Tracé de courbes\n",
    "\n",
    "Tracer les courbes des fonctions suivantes:\n",
    "\n",
    "- $f(x) = 2x +4$\n",
    "- $g(x) = x^2 + 2x + 1$\n",
    "- $h(x) = 2x sin(\\frac{\\pi x}{2})$"
   ]
  },
  {
   "cell_type": "code",
   "execution_count": null,
   "metadata": {
    "vscode": {
     "languageId": "shellscript"
    }
   },
   "outputs": [],
   "source": [
    "f(x) = 2*x+4;\n",
    "plot f(x)"
   ]
  },
  {
   "attachments": {},
   "cell_type": "markdown",
   "metadata": {},
   "source": [
    "Cela nous ce graph:\n",
    "\n",
    "![f(x)](./src/2.2-f(x).svg)"
   ]
  },
  {
   "cell_type": "code",
   "execution_count": null,
   "metadata": {
    "vscode": {
     "languageId": "shellscript"
    }
   },
   "outputs": [],
   "source": [
    "g(x) = x**2 + 2*x + 4;\n",
    "plot g(x)"
   ]
  },
  {
   "attachments": {},
   "cell_type": "markdown",
   "metadata": {},
   "source": [
    "Cela nous donne:\n",
    "\n",
    "![g(x)](./src/2.2-g(x).svg)"
   ]
  },
  {
   "cell_type": "code",
   "execution_count": null,
   "metadata": {
    "vscode": {
     "languageId": "shellscript"
    }
   },
   "outputs": [],
   "source": [
    "h(x) = 2*x*sin((pi*x) / 2)\n",
    "plot g(x)"
   ]
  },
  {
   "attachments": {},
   "cell_type": "markdown",
   "metadata": {},
   "source": [
    "Ce qui nous donne:\n",
    "\n",
    "![h(x)](./src/2.2-h(x).svg)"
   ]
  }
 ],
 "metadata": {
  "kernelspec": {
   "display_name": "Python 3",
   "language": "python",
   "name": "python3"
  },
  "language_info": {
   "codemirror_mode": {
    "name": "ipython",
    "version": 3
   },
   "file_extension": ".py",
   "mimetype": "text/x-python",
   "name": "python",
   "nbconvert_exporter": "python",
   "pygments_lexer": "ipython3",
   "version": "3.11.0"
  },
  "orig_nbformat": 4,
  "vscode": {
   "interpreter": {
    "hash": "c261aea317cc0286b3b3261fbba9abdec21eaa57589985bb7a274bf54d6cc0a7"
   }
  }
 },
 "nbformat": 4,
 "nbformat_minor": 2
}
