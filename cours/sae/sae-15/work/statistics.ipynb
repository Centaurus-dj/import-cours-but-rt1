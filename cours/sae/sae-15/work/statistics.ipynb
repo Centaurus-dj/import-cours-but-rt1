{
 "cells": [
  {
   "attachments": {},
   "cell_type": "markdown",
   "metadata": {},
   "source": [
    "# Statistisques\n",
    "\n",
    "## Cette séance est dédiée à la préparation des outils informatiques pour le traitement statistique des données.\n",
    "\n",
    "Nous allons créer un module python dédié au projet.  \n",
    "Données utiles : évolution de la température dans une salle (exemple étudié en cours) :\n",
    "\n",
    "Instants de la mesure ( h )\n",
    "\n",
    "- T=[0,1,2,3,4,5,6,7,8,9,10,11,12,13,14,15,16,17,18,19,20,21,22,23]\n",
    "\n",
    "Série 1 : températures ( °C )\n",
    "\n",
    "- L1=[3,3,4,3,2,5,8,9,13,16,18,18,19,21,22,22,21,17,17,12,10,8,7,4]\n",
    "\n",
    "Série 2 : températures ( °C )\n",
    "\n",
    "- L2=[103,203,4,3,2,5,8,9,13,16,18,18,19,21,22,22,21,17,17,12,10,-92,-93,-96]"
   ]
  },
  {
   "cell_type": "code",
   "execution_count": 7,
   "metadata": {},
   "outputs": [],
   "source": [
    "T=[0,1,2,3,4,5,6,7,8,9,10,11,12,13,14,15,16,17,18,19,20,21,22,23] # Instants de la mesure (h)\n",
    "L1=[3,3,4,3,2,5,8,9,13,16,18,18,19,21,22,22,21,17,17,12,10,8,7,4] # Températures (°C) - Série 1\n",
    "L2=[103,203,4,3,2,5,8,9,13,16,18,18,19,21,22,22,21,17,17,12,10,-92,-93,-96] # Températures (°C) - Série 2\n"
   ]
  },
  {
   "attachments": {},
   "cell_type": "markdown",
   "metadata": {},
   "source": [
    "1)- Écrire une fonction permettant de calculer la moyenne d'une liste de nombres."
   ]
  },
  {
   "cell_type": "code",
   "execution_count": 8,
   "metadata": {},
   "outputs": [],
   "source": [
    "def moyenne(_list: list):\n",
    "  nbr = len(_list)\n",
    "  _sum = 0\n",
    "  for i in range(0, len(_list)):\n",
    "    if isinstance(_list[i], (int, float)):\n",
    "      _sum += _list[i]\n",
    "\n",
    "  return _sum / nbr"
   ]
  },
  {
   "attachments": {},
   "cell_type": "markdown",
   "metadata": {},
   "source": [
    "2)- Écrire une fonction permettant de calculer l'écart type (sigma) d'une liste de nombres."
   ]
  },
  {
   "cell_type": "code",
   "execution_count": 9,
   "metadata": {},
   "outputs": [],
   "source": [
    "import math as m\n",
    "\n",
    "def sigma(_list: list):\n",
    "  ### 1/n∑(xi − moy(x))**2\n",
    "  nbr = len(_list)\n",
    "  _moyenne = moyenne(_list)\n",
    "  _sum = 0\n",
    "\n",
    "  for i in range(0, len(_list)):\n",
    "    if isinstance(_list[i], (int, float)):\n",
    "      _sum += (_list[i] - _moyenne)**2\n",
    "\n",
    "  _sigma = m.sqrt((1/nbr) * _sum)\n",
    "\n",
    "  return _sigma"
   ]
  },
  {
   "attachments": {},
   "cell_type": "markdown",
   "metadata": {},
   "source": [
    "3)- Vérifier que pour L1 : moyenne = 11,75 et sigma = 6,89 et que pour L2 : moyenne = 11,75 et sigma = 57,42"
   ]
  },
  {
   "cell_type": "code",
   "execution_count": 10,
   "metadata": {},
   "outputs": [
    {
     "name": "stdout",
     "output_type": "stream",
     "text": [
      "L1 - Moyenne: 11.75, Sigma: 6.89\n",
      "L2 - Moyenne: 11.75, Sigma: 57.42\n"
     ]
    }
   ],
   "source": [
    "print(f\"L1 - Moyenne: {moyenne(L1)}, Sigma: {sigma(L1):.2f}\")\n",
    "print(f\"L2 - Moyenne: {moyenne(L1)}, Sigma: {sigma(L2):.2f}\")"
   ]
  },
  {
   "attachments": {},
   "cell_type": "markdown",
   "metadata": {},
   "source": [
    "4)- Afin de rendre votre code plus lisible et préparer votre projet, réaliser un module python (librairie) contenant les deux fonctions réalisées."
   ]
  },
  {
   "attachments": {},
   "cell_type": "markdown",
   "metadata": {},
   "source": [
    "Le code est accessible [ici](../libs/stats.py)"
   ]
  },
  {
   "attachments": {},
   "cell_type": "markdown",
   "metadata": {},
   "source": [
    "5)- compléter votre librairie par une fonction permettant de représenter graphiquement (par une courbe) l'évolution de la température au cours du temps."
   ]
  },
  {
   "cell_type": "code",
   "execution_count": 14,
   "metadata": {},
   "outputs": [],
   "source": [
    "import matplotlib.pyplot as plt\n",
    "\n",
    "def plot(_ylist: list, _xlist: list):\n",
    "  \"\"\"\n",
    "  _ylist <list>: The list used on the Y axis of the plot\n",
    "  _xlist <list>: The list used on the X axis of the plot\n",
    "  \"\"\"\n",
    "  fig, ax = plt.subplot()\n",
    "  ax.plot(_ylist, _xlist)"
   ]
  },
  {
   "cell_type": "code",
   "execution_count": 15,
   "metadata": {},
   "outputs": [
    {
     "ename": "TypeError",
     "evalue": "cannot unpack non-iterable AxesSubplot object",
     "output_type": "error",
     "traceback": [
      "\u001b[1;31m---------------------------------------------------------------------------\u001b[0m",
      "\u001b[1;31mTypeError\u001b[0m                                 Traceback (most recent call last)",
      "Cell \u001b[1;32mIn[15], line 1\u001b[0m\n\u001b[1;32m----> 1\u001b[0m plot(L1, T)\n",
      "Cell \u001b[1;32mIn[14], line 8\u001b[0m, in \u001b[0;36mplot\u001b[1;34m(_ylist, _xlist)\u001b[0m\n\u001b[0;32m      3\u001b[0m \u001b[39mdef\u001b[39;00m \u001b[39mplot\u001b[39m(_ylist: \u001b[39mlist\u001b[39m, _xlist: \u001b[39mlist\u001b[39m):\n\u001b[0;32m      4\u001b[0m \u001b[39m  \u001b[39m\u001b[39m\"\"\"\u001b[39;00m\n\u001b[0;32m      5\u001b[0m \u001b[39m  _ylist <list>: The list used on the Y axis of the plot\u001b[39;00m\n\u001b[0;32m      6\u001b[0m \u001b[39m  _xlist <list>: The list used on the X axis of the plot\u001b[39;00m\n\u001b[0;32m      7\u001b[0m \u001b[39m  \"\"\"\u001b[39;00m\n\u001b[1;32m----> 8\u001b[0m   fig, ax \u001b[39m=\u001b[39m plt\u001b[39m.\u001b[39msubplot()\n\u001b[0;32m      9\u001b[0m   ax\u001b[39m.\u001b[39mplot(_ylist, _xlist)\n",
      "\u001b[1;31mTypeError\u001b[0m: cannot unpack non-iterable AxesSubplot object"
     ]
    },
    {
     "data": {
      "image/png": "[encoded data removed]",
      "text/plain": [
       "<Figure size 640x480 with 1 Axes>"
      ]
     },
     "metadata": {},
     "output_type": "display_data"
    }
   ],
   "source": [
    "plot(L1, T)"
   ]
  }
 ],
 "metadata": {
  "kernelspec": {
   "display_name": "Python 3",
   "language": "python",
   "name": "python3"
  },
  "language_info": {
   "codemirror_mode": {
    "name": "ipython",
    "version": 3
   },
   "file_extension": ".py",
   "mimetype": "text/x-python",
   "name": "python",
   "nbconvert_exporter": "python",
   "pygments_lexer": "ipython3",
   "version": "3.11.0"
  },
  "orig_nbformat": 4,
  "vscode": {
   "interpreter": {
    "hash": "c261aea317cc0286b3b3261fbba9abdec21eaa57589985bb7a274bf54d6cc0a7"
   }
  }
 },
 "nbformat": 4,
 "nbformat_minor": 2
}
